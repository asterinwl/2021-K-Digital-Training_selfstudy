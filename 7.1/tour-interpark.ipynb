{
 "cells": [
  {
   "cell_type": "code",
   "execution_count": 5,
   "id": "moved-longitude",
   "metadata": {},
   "outputs": [],
   "source": [
    "from selenium import webdriver as wd\n",
    "from bs4 import BeautifulSoup as bs\n",
    "from selenium.webdriver.common.by import By\n",
    "# 명시적 대기를 위해 \n",
    "from selenium.webdriver.support.ui import WebDriverWait\n",
    "from selenium.webdriver.support import expected_conditions as EC\n",
    "\n",
    "import time"
   ]
  },
  {
   "cell_type": "code",
   "execution_count": 6,
   "id": "enclosed-speaker",
   "metadata": {},
   "outputs": [],
   "source": [
    "# 상품 정보를 담는 클레스\n",
    "class TourInfo:\n",
    "    # 맴버변수 (실제 컬럼보다는 작게 세팅했음)\n",
    "    title = ''\n",
    "    price = ''\n",
    "    area  = ''\n",
    "    link  = ''\n",
    "    img   = ''\n",
    "    contents = ''\n",
    "    # 생성자\n",
    "    def __init__(self, title, price, area, link, img, contents=None ):\n",
    "        self.title = title\n",
    "        self.price = price\n",
    "        self.area  = area\n",
    "        self.link  = link\n",
    "        self.img   = img\n",
    "        self.contents = contents"
   ]
  },
  {
   "cell_type": "code",
   "execution_count": 7,
   "id": "3f8aa6c8-086b-498c-8616-01f82ac3fe40",
   "metadata": {},
   "outputs": [],
   "source": [
    "import pymysql as my\n",
    "\n",
    "class DBHelper:\n",
    "    '''\n",
    "    맴버변수 : 커넥션 \n",
    "    '''\n",
    "    conn = None\n",
    "    '''\n",
    "    생성자\n",
    "    '''\n",
    "    def __init__(self):\n",
    "        self.db_init()\n",
    "    '''\n",
    "    맴버 함수\n",
    "    '''\n",
    "    def db_init(self):\n",
    "        self.conn = my.connect(\n",
    "                        host='localhost',\n",
    "                        user='root',\n",
    "                        password='9421',\n",
    "                        db='pythondb',  \n",
    "                        charset='utf8',\n",
    "                        cursorclass=my.cursors.DictCursor )\n",
    "    \n",
    "    def db_free(self):\n",
    "        if self.conn:\n",
    "            self.conn.close()\n",
    "\n",
    "    # 검색 키워드 가져오기 => 웹에서 검색\n",
    "    def db_selectKeyword(self):\n",
    "        # 커서 오픈\n",
    "        # with => 닫기를 처리를 자동으로 처리해준다 => I/O 많이 사용\n",
    "        rows = None\n",
    "        with self.conn.cursor() as cursor:\n",
    "            sql  = \"select * from tbl_keyword;\"\n",
    "            cursor.execute(sql)\n",
    "            rows = cursor.fetchall()\n",
    "            print(rows)\n",
    "        return rows\n",
    "        \n",
    "    def db_insertCrawlingData(self, title, price, area, contents, keyword ):\n",
    "        with self.conn.cursor() as cursor:\n",
    "            sql = \"insert into tbl_crawlingdata (title, price, area, contents, keyword) values( %s,%s,%s,%s,%s );\"\n",
    "            cursor.execute(sql, (title, price, area, contents, keyword) )\n",
    "        self.conn.commit()"
   ]
  },
  {
   "cell_type": "code",
   "execution_count": 8,
   "id": "stunning-upper",
   "metadata": {},
   "outputs": [
    {
     "name": "stderr",
     "output_type": "stream",
     "text": [
      "C:\\Users\\admin\\anaconda3\\envs\\multi\\lib\\site-packages\\ipykernel_launcher.py:12: DeprecationWarning: 'db' is deprecated, use 'database'\n",
      "  if sys.path[0] == '':\n"
     ]
    }
   ],
   "source": [
    "# 사전에 필요한 정보를 로드 => 디비혹스 쉘, 베치 파일에서 인자로 받아서 세팅\n",
    "db = DBHelper()\n",
    "main_url = 'http://tour.interpark.com/' \n",
    "keyword  = '로마'\n",
    "# 상품 정보를 담는 리스트 (TourInfo 리스트)\n",
    "tour_list = []"
   ]
  },
  {
   "cell_type": "code",
   "execution_count": 9,
   "id": "creative-glass",
   "metadata": {},
   "outputs": [],
   "source": [
    "# 윈도우용\n",
    "driver = wd.Chrome(executable_path='.\\\\webdriver\\\\chromedriver.exe')"
   ]
  },
  {
   "cell_type": "code",
   "execution_count": 10,
   "id": "edd14384-7f0c-4ab2-a98c-d1540e160e4b",
   "metadata": {},
   "outputs": [],
   "source": [
    "# 사이트 접속 (get)\n",
    "driver.get(main_url)\n",
    "# 검색창을 찾아서 검색어 입력\n",
    "# id : SearchGNBText"
   ]
  },
  {
   "cell_type": "code",
   "execution_count": 11,
   "id": "0b3173af-3f43-41d8-8fcc-1ba11e5e0d92",
   "metadata": {},
   "outputs": [],
   "source": [
    "driver.find_element_by_id('SearchGNBText').send_keys(keyword)\n",
    "# 수정할경우 => 뒤에 내용이 붙어버림 => .clear() -> send_keys('내용')\n",
    "# 검색 버튼 클릭"
   ]
  },
  {
   "cell_type": "code",
   "execution_count": 12,
   "id": "763b7b4b-ae35-4148-bf89-629bd4bb6d98",
   "metadata": {},
   "outputs": [],
   "source": [
    "#time.sleep(2)\n",
    "driver.find_element_by_css_selector('button.search-btn').click()"
   ]
  },
  {
   "cell_type": "code",
   "execution_count": 13,
   "id": "a53288de-495a-451a-aede-6a1806552b62",
   "metadata": {},
   "outputs": [],
   "source": [
    "# 잠시 대기 => 페이가 로드되고 나서 즉각적으로 데이터를 획득 하는 행위는 \n",
    "# 명시적 대기 => 특정 요소가 로케이트(발결된때까지) 대기\n",
    "try:\n",
    "    element = WebDriverWait(driver, 10).until(\n",
    "        # 지정한 한개 요소가 올라오면 웨이트 종료\n",
    "        EC.presence_of_element_located( (By.CLASS_NAME, 'oTravelBox') )\n",
    "    )\n",
    "except Exception as e:\n",
    "    print( '오류 발생', e)\n",
    "# 암묵적 대기 => DOM이 다 로드 될때까지 대기 하고 먼저 로드되면 바로 진행\n",
    "# 요소를 찾을 특정 시간 동안 DOM 풀링을 지시 예를 들어 10 초이내 라로 \n",
    "# 발견 되면 진행\n",
    "driver.implicitly_wait( 10 )\n",
    "# 절대기 대기 => time.sleep(10) -> 클라우드 페어(디도스 방어  솔류션)\n",
    "# 더보기 눌러서 => 게시판 진입 "
   ]
  },
  {
   "cell_type": "markdown",
   "id": "98592a66-2db5-46b9-a731-63c1a20ab34b",
   "metadata": {},
   "source": [
    "Syntax –\n",
    ">driver.find_element_by_css_selector(\"CSS Selectors\")\n",
    "\n",
    "-Example-\n",
    "\n",
    "<html>\n",
    "<body>\n",
    "<p class=\"content\">Site content goes here.</p>\n",
    "</body>\n",
    "<html>\n",
    "\n",
    "    \n",
    ">content = driver.find_element_by_css_selector('p.content')"
   ]
  },
  {
   "cell_type": "code",
   "execution_count": 14,
   "id": "a44eaf4b-1566-4f7e-9896-6a7b552acf09",
   "metadata": {},
   "outputs": [],
   "source": [
    "driver.find_element_by_css_selector('.oTravelBox>.boxList>.moreBtnWrap>.moreBtn').click()"
   ]
  },
  {
   "cell_type": "markdown",
   "id": "3a96d1cf-2707-4722-a473-97d9fc3019eb",
   "metadata": {},
   "source": [
    "해당되는 모든 요소를 찾는 fined_elements 메서드를 활용해 보세요.  그리고 css selector 문법 중에 특정 문자열로 시작되는 특성을 선택하는 방법이 있습니다.\n",
    "\n",
    "\n",
    "findings = driver.find_elements_by_css_selector(\"*[id^='custom']\")\n",
    "for finding in findings:\n",
    "    finding.find_element_by_css_selector('div > p > name')"
   ]
  },
  {
   "cell_type": "code",
   "execution_count": 15,
   "id": "capital-sierra",
   "metadata": {},
   "outputs": [
    {
     "name": "stdout",
     "output_type": "stream",
     "text": [
      "1 페이지 이동\n",
      "썸네임 http://tourimage.interpark.com/product/tour/00161/A30/280/A3015008_14_870.jpg\n",
      "링크 searchModule.OnClickDetail('http://tour.interpark.com/goods/detail/?BaseGoodsCd=A3015008','')\n",
      "상품명 [4국10일_대한항공]1급_융프라우_런던&로마 야간투어\n",
      "코멘트 #베르사유궁전내부 #바티칸하이패스\n",
      "가격 3,240,000 원~\n",
      "여행 기간 : 8박10일\n",
      "출발 가능 기간 : 2021.07.01~2021.12.30\n",
      "평점 9.7\n",
      "15개의 상품평\n",
      "====================================================================================================\n",
      "썸네임 http://tourimage.interpark.com/product/tour/00161/A30/280/A3017982_1_870.jpg\n",
      "링크 searchModule.OnClickDetail('http://tour.interpark.com/goods/detail/?BaseGoodsCd=A3017982','')\n",
      "상품명 [2인이상 단독여행_이탈리아 8일] 로마+피렌체+베네치아 (항공제외)\n",
      "코멘트 가이드 안내 + 자유 일정의 장점만 쏙쏙\n",
      "가격 1,600,000 원~\n",
      "여행 기간 : 6박7일\n",
      "출발 가능 기간 : 2022.12.31~2022.12.31\n",
      "평점 0.0\n",
      "0개의 상품평\n",
      "====================================================================================================\n",
      "썸네임 http://tourimage.interpark.com/product/tour/00161/A30/280/A3017907_4_580.jpg\n",
      "링크 searchModule.OnClickDetail('http://tour.interpark.com/goods/detail/?BaseGoodsCd=A3017907','')\n",
      "상품명 [소그룹_서유럽 4국10일] 런던&로마 야간투어+융프라우\n",
      "코멘트 ★소그룹_10명이상 출발 ! 최대 인원 15명 !★\n",
      "가격 3,300,000 원~\n",
      "여행 기간 : 8박10일\n",
      "출발 가능 기간 : 2021.07.01~2021.12.30\n",
      "평점 0.0\n",
      "0개의 상품평\n",
      "====================================================================================================\n",
      "썸네임 http://tourimage.interpark.com/product/tour/00161/A30/280/A3016614_1_430.jpg\n",
      "링크 searchModule.OnClickDetail('http://tour.interpark.com/goods/detail/?BaseGoodsCd=A3016614','')\n",
      "상품명 [서유럽 10일]1급호텔_천공의 도시 치비타_융프라우_런던+로마야간\n",
      "코멘트 치비타 디 바뇨레지오 내부\n",
      "가격 3,100,000 원~\n",
      "여행 기간 : 8박10일\n",
      "출발 가능 기간 : 2021.07.01~2021.12.30\n",
      "평점 0.0\n",
      "0개의 상품평\n",
      "====================================================================================================\n",
      "썸네임 http://tourimage.interpark.com/product/tour/00161/A30/280/A3012934_10_067.jpg\n",
      "링크 searchModule.OnClickDetail('http://tour.interpark.com/goods/detail/?BaseGoodsCd=A3012934','')\n",
      "상품명 [서유럽 3국 9일] 융프라우/바티칸하이패스_아시아나\n",
      "코멘트 ＃주말출발 ＃국적기이용 ＃베르사유포함\n",
      "가격 2,990,000 원~\n",
      "여행 기간 : 7박9일\n",
      "출발 가능 기간 : 2021.07.03~2021.12.26\n",
      "평점 9.2\n",
      "564개의 상품평\n",
      "====================================================================================================\n",
      "썸네임 http://tourimage.interpark.com/product/tour/00161/A30/280/A3014578_11_343.jpg\n",
      "링크 searchModule.OnClickDetail('http://tour.interpark.com/goods/detail/?BaseGoodsCd=A3014578','')\n",
      "상품명 [스위스/이태리 9일] 1급호텔+체르마트+융프라우+툰호수\n",
      "코멘트 툰호수 유람선 탑승 / 퐁뒤+티본스테이크\n",
      "가격 2,990,000 원~\n",
      "여행 기간 : 7박9일\n",
      "출발 가능 기간 : 2021.07.01~2021.12.30\n",
      "평점 9.3\n",
      "98개의 상품평\n",
      "====================================================================================================\n",
      "썸네임 http://tourimage.interpark.com/product/tour/00161/A30/280/A3012471_20_170.jpg\n",
      "링크 searchModule.OnClickDetail('http://tour.interpark.com/goods/detail/?BaseGoodsCd=A3012471','')\n",
      "상품명 [서유럽 6국 12일] 뮈렌/베르사유/3대박물관\n",
      "코멘트 #최고의유럽여행을꿈꾼다면 #서유럽일주\n",
      "가격 3,025,000 원~\n",
      "여행 기간 : 10박12일\n",
      "출발 가능 기간 : 2021.07.01~2021.12.30\n",
      "평점 8.7\n",
      "88개의 상품평\n",
      "====================================================================================================\n",
      "썸네임 http://tourimage.interpark.com/product/tour/00161/A30/280/A3013963_23_130.jpg\n",
      "링크 searchModule.OnClickDetail('http://tour.interpark.com/goods/detail/?BaseGoodsCd=A3013963','')\n",
      "상품명 [서유럽 6국 12일] 바티칸하이패스+특식+호텔UP!\n",
      "코멘트 ★선착순★ 특별한 혜택이 팡팡!!\n",
      "가격 3,175,000 원~\n",
      "여행 기간 : 10박12일\n",
      "출발 가능 기간 : 2021.07.01~2021.12.30\n",
      "평점 8.9\n",
      "85개의 상품평\n",
      "====================================================================================================\n",
      "썸네임 http://tourimage.interpark.com/product/tour/00161/A30/280/A3014604_8_990.jpg\n",
      "링크 searchModule.OnClickDetail('http://tour.interpark.com/goods/detail/?BaseGoodsCd=A3014604','')\n",
      "상품명 [스위스/이태리9일] 1급UP! 리기정상식+몽트뢰/프라이부르크\n",
      "코멘트 국적기 직항/루체른/몽트뢰/프라이부르크\n",
      "가격 2,840,000 원~\n",
      "여행 기간 : 7박9일\n",
      "출발 가능 기간 : 2021.07.01~2021.12.30\n",
      "평점 9.0\n",
      "82개의 상품평\n",
      "====================================================================================================\n",
      "썸네임 http://tourimage.interpark.com/product/tour/00161/A30/280/A3015881_21_750.jpg\n",
      "링크 searchModule.OnClickDetail('http://tour.interpark.com/goods/detail/?BaseGoodsCd=A3015881','')\n",
      "상품명 [서유럽 4국 12일] 융프라우VIP패스+남프랑스\n",
      "코멘트 융프라우 VIP패스 2DAY + 전일정 1급 호텔\n",
      "가격 3,800,000 원~\n",
      "여행 기간 : 10박12일\n",
      "출발 가능 기간 : 2021.07.01~2021.12.30\n",
      "평점 8.9\n",
      "81개의 상품평\n",
      "====================================================================================================\n",
      "[<__main__.TourInfo object at 0x00000245AFC06AC8>, <__main__.TourInfo object at 0x00000245AFC06B48>, <__main__.TourInfo object at 0x00000245AFBEDA08>, <__main__.TourInfo object at 0x00000245AFC06548>, <__main__.TourInfo object at 0x00000245AFC22FC8>, <__main__.TourInfo object at 0x00000245AFBDC9C8>, <__main__.TourInfo object at 0x00000245AFC002C8>, <__main__.TourInfo object at 0x00000245AFBDC588>, <__main__.TourInfo object at 0x00000245AFC234C8>, <__main__.TourInfo object at 0x00000245AFBDCB88>] 10\n"
     ]
    }
   ],
   "source": [
    "# searchModule.SetCategoryList(1, '') 스크립트 실행\n",
    "# 게시물을 넘어갔을때 현상을 확인차\n",
    "for page in range(1, 2): # 4):\n",
    "    try:\n",
    "        # 자바스크립트 구동하기\n",
    "        driver.execute_script(\"searchModule.SetCategoryList(%s, '')\" % page)\n",
    "        time.sleep(2)\n",
    "        print(\"%s 페이지 이동\" % page)\n",
    "        #############################################################\n",
    "        # 여러 사이트에서 정보를 수집할 경우 공통 정보 정의 단계 필요\n",
    "        # 상품명, 코멘트, 기간1, 기간2, 가격, 평점, 썸네일, 링크(상품상세정보)\n",
    "        boxItems = driver.find_elements_by_css_selector('.oTravelBox>.boxList>li')\n",
    "        # 상품 하나 하나 접근\n",
    "        for li in boxItems:\n",
    "            # 이미지를 링크값을 사용할것인가? \n",
    "            # 직접 다운로드 해서 우리 서버에 업로드(ftp) 할것인가?\n",
    "            print( '썸네임', li.find_element_by_css_selector('img').get_attribute('src') )\n",
    "            print( '링크', li.find_element_by_css_selector('a').get_attribute('onclick') )\n",
    "            print( '상품명', li.find_element_by_css_selector('h5.proTit').text )\n",
    "            print( '코멘트', li.find_element_by_css_selector('.proSub').text )\n",
    "            print( '가격',   li.find_element_by_css_selector('.proPrice').text )\n",
    "            area = ''\n",
    "            for info in li.find_elements_by_css_selector('.info-row .proInfo'):\n",
    "                print(  info.text )\n",
    "            print('='*100)\n",
    "            # 데이터 모음\n",
    "            # li.find_elements_by_css_selector('.info-row .proInfo')[1].text\n",
    "            # 데이터가 부족하거나 없을수도 있으므로 직접 인덱스로 표현은 위험성이 있음\n",
    "            obj = TourInfo(  \n",
    "                li.find_element_by_css_selector('h5.proTit').text,\n",
    "                li.find_element_by_css_selector('.proPrice').text,\n",
    "                li.find_elements_by_css_selector('.info-row .proInfo')[1].text,\n",
    "                li.find_element_by_css_selector('a').get_attribute('onclick'),\n",
    "                li.find_element_by_css_selector('img').get_attribute('src')\n",
    "            )\n",
    "            tour_list.append( obj )\n",
    "    except Exception as e1:\n",
    "        print( '오류', e1 )\n",
    "\n",
    "print( tour_list, len(tour_list) )\n"
   ]
  },
  {
   "cell_type": "code",
   "execution_count": 16,
   "id": "31b4792f-d685-47b8-b9f9-117d743880ad",
   "metadata": {},
   "outputs": [
    {
     "name": "stdout",
     "output_type": "stream",
     "text": [
      "<class '__main__.TourInfo'>\n",
      "<class 'bs4.element.ResultSet'> 1 <class 'list'>\n",
      "test\n",
      "<class '__main__.TourInfo'>\n",
      "<class 'bs4.element.ResultSet'> 1 <class 'list'>\n",
      "test\n",
      "<class '__main__.TourInfo'>\n",
      "<class 'bs4.element.ResultSet'> 1 <class 'list'>\n",
      "test\n",
      "<class '__main__.TourInfo'>\n",
      "<class 'bs4.element.ResultSet'> 1 <class 'list'>\n",
      "test\n",
      "<class '__main__.TourInfo'>\n",
      "<class 'bs4.element.ResultSet'> 1 <class 'list'>\n",
      "test\n",
      "<class '__main__.TourInfo'>\n",
      "<class 'bs4.element.ResultSet'> 1 <class 'list'>\n",
      "test\n",
      "<class '__main__.TourInfo'>\n",
      "<class 'bs4.element.ResultSet'> 1 <class 'list'>\n",
      "test\n",
      "<class '__main__.TourInfo'>\n",
      "<class 'bs4.element.ResultSet'> 1 <class 'list'>\n",
      "test\n",
      "<class '__main__.TourInfo'>\n",
      "<class 'bs4.element.ResultSet'> 1 <class 'list'>\n",
      "test\n",
      "<class '__main__.TourInfo'>\n",
      "<class 'bs4.element.ResultSet'> 1 <class 'list'>\n",
      "test\n"
     ]
    }
   ],
   "source": [
    "# 수집한 정보 개수를 루프 => 페이지 방문 => 콘텐츠 획득(상품상세정보) => 디비\n",
    "for tour in tour_list:\n",
    "    # tour => TourInfo\n",
    "    print( type(tour) )\n",
    "    # 링크 데이터에서 실데이터 획득\n",
    "    # 분해\n",
    "    arr = tour.link.split(',')\n",
    "    if arr:\n",
    "        # 대체\n",
    "        link = arr[0].replace('searchModule.OnClickDetail(','')\n",
    "        # 슬라이싱 => 앞에 ', 뒤에 ' 제거\n",
    "        detail_url = link[1:-1]\n",
    "        # 상세 페이지 이동 : URL 값이 완성된 형태인지 확인 (http~)\n",
    "        driver.get( detail_url )\n",
    "        time.sleep(2)\n",
    "        # pip install bs4\n",
    "        # 혖재 페이지를 beautifulsoup 의 DOM으로 구성\n",
    "        soup = bs( driver.page_source, 'html.parser')\n",
    "        # 현제 상세 정보 페이지에서 스케줄 정보 획득\n",
    "        data = soup.select('.tip-cover')\n",
    "        print( type(data), len(data), type(data[0].contents)  )\n",
    "        # \n",
    "        # 데이터 sum\n",
    "        data[0].contents = 'test' # me\n",
    "        content_final = ''\n",
    "        for c in data[0].contents:\n",
    "            content_final += str(c)\n",
    "        \n",
    "        # html 콘첸츠 데이터 전처리 (디비에 입력 가능토록)\n",
    "        import re\n",
    "        content_final   = re.sub(\"'\", '\"', content_final)\n",
    "        content_final   = re.sub(re.compile(r'\\r\\n|\\r|\\n|\\n\\r+'), '', content_final)\n",
    "\n",
    "        print( content_final )\n",
    "        # 콘텐츠 내용에 따라 전처리 => data[0].contents\n",
    "        db.db_insertCrawlingData(\n",
    "            tour.title,\n",
    "            tour.price[:-1],\n",
    "            tour.area.replace('출발 가능 기간 : ',''),\n",
    "            content_final,\n",
    "            keyword\n",
    "        )"
   ]
  },
  {
   "cell_type": "code",
   "execution_count": 17,
   "id": "tough-treat",
   "metadata": {},
   "outputs": [],
   "source": [
    "driver.close()"
   ]
  },
  {
   "cell_type": "markdown",
   "id": "85a1e168-2493-4d53-adab-b2e8c61f9b93",
   "metadata": {},
   "source": [
    "#### 개인적인 실습(url만 빼서 오기 같은 것)"
   ]
  },
  {
   "cell_type": "code",
   "execution_count": 15,
   "id": "cee0a18d-0820-4f09-bc05-1e5d2ef7d979",
   "metadata": {},
   "outputs": [
    {
     "data": {
      "text/plain": [
       "[<__main__.TourInfo at 0x2405e64ae08>,\n",
       " <__main__.TourInfo at 0x2405e60dc88>,\n",
       " <__main__.TourInfo at 0x2405e62af48>,\n",
       " <__main__.TourInfo at 0x2405e60dd88>,\n",
       " <__main__.TourInfo at 0x2405e64afc8>,\n",
       " <__main__.TourInfo at 0x2405e62a208>,\n",
       " <__main__.TourInfo at 0x2405e64a4c8>,\n",
       " <__main__.TourInfo at 0x2405e64a6c8>,\n",
       " <__main__.TourInfo at 0x2405e64ae48>,\n",
       " <__main__.TourInfo at 0x2405e64ab48>]"
      ]
     },
     "execution_count": 15,
     "metadata": {},
     "output_type": "execute_result"
    }
   ],
   "source": [
    "tour_list"
   ]
  },
  {
   "cell_type": "code",
   "execution_count": 19,
   "id": "3f0eb86b-41d8-4aa0-9bba-28dc090a2a20",
   "metadata": {},
   "outputs": [
    {
     "data": {
      "text/plain": [
       "10"
      ]
     },
     "execution_count": 19,
     "metadata": {},
     "output_type": "execute_result"
    }
   ],
   "source": [
    "len(tour_list)"
   ]
  },
  {
   "cell_type": "code",
   "execution_count": 16,
   "id": "817c945f-89dc-4a26-a6a3-8e1054397156",
   "metadata": {},
   "outputs": [
    {
     "data": {
      "text/plain": [
       "'출발 가능 기간 : 2021.07.01~2021.12.30'"
      ]
     },
     "execution_count": 16,
     "metadata": {},
     "output_type": "execute_result"
    }
   ],
   "source": [
    "tour_list[0].area"
   ]
  },
  {
   "cell_type": "code",
   "execution_count": 17,
   "id": "152b5322-5c91-4df5-bc6a-4ab298a24a67",
   "metadata": {},
   "outputs": [
    {
     "data": {
      "text/plain": [
       "'3,240,000 원~'"
      ]
     },
     "execution_count": 17,
     "metadata": {},
     "output_type": "execute_result"
    }
   ],
   "source": [
    "tour_list[0].price"
   ]
  },
  {
   "cell_type": "code",
   "execution_count": 18,
   "id": "31c1e94f-1f03-4a97-a38e-4f1dcadb2365",
   "metadata": {},
   "outputs": [
    {
     "data": {
      "text/plain": [
       "'[4국10일_대한항공]1급_융프라우_런던&로마 야간투어'"
      ]
     },
     "execution_count": 18,
     "metadata": {},
     "output_type": "execute_result"
    }
   ],
   "source": [
    "tour_list[0].title"
   ]
  },
  {
   "cell_type": "code",
   "execution_count": 20,
   "id": "a190a3ac-4c11-4b2c-a2d3-1b63a3d955ba",
   "metadata": {},
   "outputs": [
    {
     "data": {
      "text/plain": [
       "\"searchModule.OnClickDetail('http://tour.interpark.com/goods/detail/?BaseGoodsCd=A3015008','')\""
      ]
     },
     "execution_count": 20,
     "metadata": {},
     "output_type": "execute_result"
    }
   ],
   "source": [
    "tour_list[0].link"
   ]
  },
  {
   "cell_type": "code",
   "execution_count": 22,
   "id": "61a97a57-d4ac-45ab-882c-9095f5a46567",
   "metadata": {},
   "outputs": [],
   "source": [
    "arr=tour_list[0].link.split(',')"
   ]
  },
  {
   "cell_type": "code",
   "execution_count": 24,
   "id": "462f67cb-ced2-4fc9-9935-74ab529757a8",
   "metadata": {},
   "outputs": [
    {
     "data": {
      "text/plain": [
       "2"
      ]
     },
     "execution_count": 24,
     "metadata": {},
     "output_type": "execute_result"
    }
   ],
   "source": [
    "len(arr)"
   ]
  },
  {
   "cell_type": "code",
   "execution_count": 25,
   "id": "701e2b64-8205-4e8e-b86b-27961425854f",
   "metadata": {},
   "outputs": [
    {
     "data": {
      "text/plain": [
       "\"searchModule.OnClickDetail('http://tour.interpark.com/goods/detail/?BaseGoodsCd=A3015008'\""
      ]
     },
     "execution_count": 25,
     "metadata": {},
     "output_type": "execute_result"
    }
   ],
   "source": [
    "arr[0]"
   ]
  },
  {
   "cell_type": "code",
   "execution_count": 26,
   "id": "64149de9-ec05-4198-a4b1-54a45bcd704c",
   "metadata": {},
   "outputs": [
    {
     "data": {
      "text/plain": [
       "\"'')\""
      ]
     },
     "execution_count": 26,
     "metadata": {},
     "output_type": "execute_result"
    }
   ],
   "source": [
    "arr[1]"
   ]
  },
  {
   "cell_type": "code",
   "execution_count": 28,
   "id": "12748489-4111-4ed8-a33c-af8bfa553abf",
   "metadata": {},
   "outputs": [],
   "source": [
    "link=arr[0].replace(\"searchModule.OnClickDetail('\",\"\")"
   ]
  },
  {
   "cell_type": "code",
   "execution_count": 29,
   "id": "872aa483-8a39-4768-8d3f-89f383028bd8",
   "metadata": {},
   "outputs": [
    {
     "data": {
      "text/plain": [
       "\"http://tour.interpark.com/goods/detail/?BaseGoodsCd=A3015008'\""
      ]
     },
     "execution_count": 29,
     "metadata": {},
     "output_type": "execute_result"
    }
   ],
   "source": [
    "link"
   ]
  },
  {
   "cell_type": "code",
   "execution_count": 31,
   "id": "1969f602-6c01-40bd-b2e5-aae5cfc67b36",
   "metadata": {},
   "outputs": [],
   "source": [
    "detail_url=link[0:-1]"
   ]
  },
  {
   "cell_type": "code",
   "execution_count": 39,
   "id": "81dec2d6-8ca2-428d-be2b-3265a263153b",
   "metadata": {},
   "outputs": [
    {
     "data": {
      "text/plain": [
       "'http://tour.interpark.com/goods/detail/?BaseGoodsCd=A3015008'"
      ]
     },
     "execution_count": 39,
     "metadata": {},
     "output_type": "execute_result"
    }
   ],
   "source": [
    "detail_url"
   ]
  },
  {
   "cell_type": "code",
   "execution_count": 40,
   "id": "0524655b-dd6d-498e-b2a7-75905b1f5f16",
   "metadata": {},
   "outputs": [],
   "source": [
    "driver.get(detail_url)"
   ]
  },
  {
   "cell_type": "code",
   "execution_count": 43,
   "id": "ddd0940a-cce8-4325-beaf-af3841e3c9d6",
   "metadata": {},
   "outputs": [],
   "source": [
    "#driver.page_source"
   ]
  },
  {
   "cell_type": "code",
   "execution_count": 48,
   "id": "a3dcc898-1471-48f2-93c6-7da13015240a",
   "metadata": {},
   "outputs": [],
   "source": [
    "soup=bs(driver.page_source,'html.parser')"
   ]
  },
  {
   "cell_type": "code",
   "execution_count": 51,
   "id": "c021c923-0c96-4cae-aeff-62e8125c18c5",
   "metadata": {},
   "outputs": [],
   "source": [
    "data=soup.select('.tip-cover')"
   ]
  },
  {
   "cell_type": "code",
   "execution_count": 52,
   "id": "d047b990-1e07-4e24-9d71-ad9d093fcccb",
   "metadata": {},
   "outputs": [
    {
     "name": "stdout",
     "output_type": "stream",
     "text": [
      "<class 'bs4.element.ResultSet'> 1 <class 'list'>\n"
     ]
    }
   ],
   "source": [
    "print(type(data),len(data),type(data[0].contents))"
   ]
  },
  {
   "cell_type": "code",
   "execution_count": 54,
   "id": "99704894-7a80-4d62-bc11-0acff1a1e52f",
   "metadata": {},
   "outputs": [],
   "source": [
    "content_final=data[0].contents"
   ]
  },
  {
   "cell_type": "code",
   "execution_count": 55,
   "id": "d7b05eb5-d396-44dd-a327-2016fdddc240",
   "metadata": {},
   "outputs": [],
   "source": [
    "import re"
   ]
  },
  {
   "cell_type": "code",
   "execution_count": 60,
   "id": "ac7b623f-a4cc-41da-b673-e430e91bc7bd",
   "metadata": {},
   "outputs": [
    {
     "data": {
      "text/plain": [
       "'\\n'"
      ]
     },
     "execution_count": 60,
     "metadata": {},
     "output_type": "execute_result"
    }
   ],
   "source": [
    "content_final=re.sub(\"'\",'\"',content_final[0])\n",
    "content_final\n",
    "#content_final=re.sub(re.compile(r'\\r\\n|\\r|\\n|\\n\\r+'),'',content_final)"
   ]
  },
  {
   "cell_type": "code",
   "execution_count": 12,
   "id": "1696634b-e3a6-440f-a727-9e5d17947b82",
   "metadata": {},
   "outputs": [],
   "source": [
    "from selenium import webdriver as wd\n",
    "from bs4 import BeautifulSoup as bs\n",
    "from selenium.webdriver.common.by import By\n",
    "# 명시적 대기를 위해 \n",
    "from selenium.webdriver.support.ui import WebDriverWait\n",
    "from selenium.webdriver.support import expected_conditions as EC\n",
    "import time"
   ]
  },
  {
   "cell_type": "code",
   "execution_count": 14,
   "id": "43c1c5cf-3d40-4cde-b6f3-839b380ce5ab",
   "metadata": {},
   "outputs": [
    {
     "name": "stdout",
     "output_type": "stream",
     "text": [
      "()\n",
      "()\n",
      "None\n"
     ]
    },
    {
     "name": "stderr",
     "output_type": "stream",
     "text": [
      "C:\\Users\\admin\\anaconda3\\envs\\multi\\lib\\site-packages\\ipykernel_launcher.py:12: DeprecationWarning: 'db' is deprecated, use 'database'\n",
      "  if sys.path[0] == '':\n"
     ]
    }
   ],
   "source": [
    "'''\n",
    "# DB test        \n",
    "if __name__=='__main__':\n",
    "    db = DBHelper()\n",
    "    print( db.db_selectKeyword() )\n",
    "    print( db.db_insertCrawlingData('1','2','3','4','5') )\n",
    "    db.db_free()\n",
    "'''"
   ]
  }
 ],
 "metadata": {
  "kernelspec": {
   "display_name": "Python Multi",
   "language": "python",
   "name": "multi"
  },
  "language_info": {
   "codemirror_mode": {
    "name": "ipython",
    "version": 3
   },
   "file_extension": ".py",
   "mimetype": "text/x-python",
   "name": "python",
   "nbconvert_exporter": "python",
   "pygments_lexer": "ipython3",
   "version": "3.7.6"
  }
 },
 "nbformat": 4,
 "nbformat_minor": 5
}
