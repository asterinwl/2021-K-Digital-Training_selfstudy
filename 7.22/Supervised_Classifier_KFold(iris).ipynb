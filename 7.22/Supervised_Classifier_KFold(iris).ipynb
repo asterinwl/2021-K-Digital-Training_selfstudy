{
 "cells": [
  {
   "cell_type": "markdown",
   "id": "cdca5ffe-acea-4397-a90b-def5e60e59eb",
   "metadata": {},
   "source": [
    "# KFold를 이용한 교차검정"
   ]
  },
  {
   "cell_type": "markdown",
   "id": "2801135b-0814-436e-abfa-0bac001fab5b",
   "metadata": {},
   "source": [
    "###### 총 데이터 수가 적은 경우 사용한다.\n",
    "###### 데이터를 k개로 나누고 `k-1을 train` `하나를 test`로 둔다.\n",
    "###### 첫 번째 덩어리를 test로->두 번째 덩어리를 test로->...->k 번째 덩어리를 test로 두며 지도학습을 한다.\n",
    "###### KFold를 적용하지 않을 때는 한 번인 과정이 KFold를 적용하면 k번 반복되는 과정으로 바뀐다.\n",
    "###### 이 과정을 통해 적은 데이터를 많이 부풀려 사용할 수 있다."
   ]
  },
  {
   "cell_type": "code",
   "execution_count": 1,
   "id": "88a3b8f9-8a24-4039-9b5f-94f1dfda11d3",
   "metadata": {},
   "outputs": [
    {
     "data": {
      "text/plain": [
       "(150, 4)"
      ]
     },
     "execution_count": 1,
     "metadata": {},
     "output_type": "execute_result"
    }
   ],
   "source": [
    "from sklearn.datasets import load_iris\n",
    "from sklearn.tree import DecisionTreeClassifier\n",
    "from sklearn.metrics import accuracy_score\n",
    "from sklearn.model_selection import KFold\n",
    "\n",
    "iris=load_iris()\n",
    "features=iris.data\n",
    "label=iris.target\n",
    "\n",
    "features.shape"
   ]
  },
  {
   "cell_type": "code",
   "execution_count": 2,
   "id": "a1fd19a9-9714-4c40-b3c7-a921d32ea08b",
   "metadata": {},
   "outputs": [],
   "source": [
    "#DecisionTreeClassifier 객체 생성\n",
    "dt_clf=DecisionTreeClassifier(random_state=156)\n",
    "\n",
    "#5개의 폴드 세트로 분리하는 KFold 객체 생성\n",
    "kfold=KFold(n_splits=5)\n",
    "\n",
    "#폴드 세트별 정확도를 담을 리스트 객체 생성\n",
    "cv_accuracy=[]"
   ]
  },
  {
   "cell_type": "code",
   "execution_count": 3,
   "id": "690104cf-33cd-42b2-b07a-db06a9be0e0c",
   "metadata": {},
   "outputs": [
    {
     "name": "stdout",
     "output_type": "stream",
     "text": [
      "[ 30  31  32  33  34  35  36  37  38  39  40  41  42  43  44  45  46  47\n",
      "  48  49  50  51  52  53  54  55  56  57  58  59  60  61  62  63  64  65\n",
      "  66  67  68  69  70  71  72  73  74  75  76  77  78  79  80  81  82  83\n",
      "  84  85  86  87  88  89  90  91  92  93  94  95  96  97  98  99 100 101\n",
      " 102 103 104 105 106 107 108 109 110 111 112 113 114 115 116 117 118 119\n",
      " 120 121 122 123 124 125 126 127 128 129 130 131 132 133 134 135 136 137\n",
      " 138 139 140 141 142 143 144 145 146 147 148 149] [ 0  1  2  3  4  5  6  7  8  9 10 11 12 13 14 15 16 17 18 19 20 21 22 23\n",
      " 24 25 26 27 28 29]\n",
      "[  0   1   2   3   4   5   6   7   8   9  10  11  12  13  14  15  16  17\n",
      "  18  19  20  21  22  23  24  25  26  27  28  29  60  61  62  63  64  65\n",
      "  66  67  68  69  70  71  72  73  74  75  76  77  78  79  80  81  82  83\n",
      "  84  85  86  87  88  89  90  91  92  93  94  95  96  97  98  99 100 101\n",
      " 102 103 104 105 106 107 108 109 110 111 112 113 114 115 116 117 118 119\n",
      " 120 121 122 123 124 125 126 127 128 129 130 131 132 133 134 135 136 137\n",
      " 138 139 140 141 142 143 144 145 146 147 148 149] [30 31 32 33 34 35 36 37 38 39 40 41 42 43 44 45 46 47 48 49 50 51 52 53\n",
      " 54 55 56 57 58 59]\n",
      "[  0   1   2   3   4   5   6   7   8   9  10  11  12  13  14  15  16  17\n",
      "  18  19  20  21  22  23  24  25  26  27  28  29  30  31  32  33  34  35\n",
      "  36  37  38  39  40  41  42  43  44  45  46  47  48  49  50  51  52  53\n",
      "  54  55  56  57  58  59  90  91  92  93  94  95  96  97  98  99 100 101\n",
      " 102 103 104 105 106 107 108 109 110 111 112 113 114 115 116 117 118 119\n",
      " 120 121 122 123 124 125 126 127 128 129 130 131 132 133 134 135 136 137\n",
      " 138 139 140 141 142 143 144 145 146 147 148 149] [60 61 62 63 64 65 66 67 68 69 70 71 72 73 74 75 76 77 78 79 80 81 82 83\n",
      " 84 85 86 87 88 89]\n",
      "[  0   1   2   3   4   5   6   7   8   9  10  11  12  13  14  15  16  17\n",
      "  18  19  20  21  22  23  24  25  26  27  28  29  30  31  32  33  34  35\n",
      "  36  37  38  39  40  41  42  43  44  45  46  47  48  49  50  51  52  53\n",
      "  54  55  56  57  58  59  60  61  62  63  64  65  66  67  68  69  70  71\n",
      "  72  73  74  75  76  77  78  79  80  81  82  83  84  85  86  87  88  89\n",
      " 120 121 122 123 124 125 126 127 128 129 130 131 132 133 134 135 136 137\n",
      " 138 139 140 141 142 143 144 145 146 147 148 149] [ 90  91  92  93  94  95  96  97  98  99 100 101 102 103 104 105 106 107\n",
      " 108 109 110 111 112 113 114 115 116 117 118 119]\n",
      "[  0   1   2   3   4   5   6   7   8   9  10  11  12  13  14  15  16  17\n",
      "  18  19  20  21  22  23  24  25  26  27  28  29  30  31  32  33  34  35\n",
      "  36  37  38  39  40  41  42  43  44  45  46  47  48  49  50  51  52  53\n",
      "  54  55  56  57  58  59  60  61  62  63  64  65  66  67  68  69  70  71\n",
      "  72  73  74  75  76  77  78  79  80  81  82  83  84  85  86  87  88  89\n",
      "  90  91  92  93  94  95  96  97  98  99 100 101 102 103 104 105 106 107\n",
      " 108 109 110 111 112 113 114 115 116 117 118 119] [120 121 122 123 124 125 126 127 128 129 130 131 132 133 134 135 136 137\n",
      " 138 139 140 141 142 143 144 145 146 147 148 149]\n"
     ]
    }
   ],
   "source": [
    "#폴드 별 학습용, 검증용 데이터 세트의 행 인덱스 확인\n",
    "for train_index,test_index in kfold.split(features) : \n",
    "    print(train_index,test_index)"
   ]
  },
  {
   "cell_type": "code",
   "execution_count": 4,
   "id": "cc990419-b404-408f-994a-be7a04386cb5",
   "metadata": {},
   "outputs": [
    {
     "name": "stdout",
     "output_type": "stream",
     "text": [
      "정확도: 1.000000, 학습데이터 크기: 120, 검증데이터 크기: 30\n",
      "정확도: 0.967000, 학습데이터 크기: 120, 검증데이터 크기: 30\n",
      "정확도: 0.867000, 학습데이터 크기: 120, 검증데이터 크기: 30\n",
      "정확도: 0.933000, 학습데이터 크기: 120, 검증데이터 크기: 30\n",
      "정확도: 0.733000, 학습데이터 크기: 120, 검증데이터 크기: 30\n",
      "평균 검증 정확도:  0.9\n"
     ]
    }
   ],
   "source": [
    "import numpy as np\n",
    "for train_index,test_index in kfold.split(features):\n",
    "    X_train,X_test=features[train_index],features[test_index]\n",
    "    y_train,y_test=label[train_index],label[test_index]\n",
    "    \n",
    "    dt_clf.fit(X_train,y_train)\n",
    "    pred=dt_clf.predict(X_test)\n",
    "    \n",
    "    acc= np.round(accuracy_score(y_test,pred),3)\n",
    "    train_size=X_train.shape[0]\n",
    "    test_size=X_test.shape[0]\n",
    "    \n",
    "    print(\"정확도: %f, 학습데이터 크기: %d, 검증데이터 크기: %d\" %(acc,train_size,test_size))\n",
    "    cv_accuracy.append(acc)\n",
    "\n",
    "print(\"평균 검증 정확도: \",np.mean(cv_accuracy))"
   ]
  },
  {
   "cell_type": "markdown",
   "id": "830b5a9d-1b55-42c8-81e6-e79516aa0b2d",
   "metadata": {},
   "source": [
    "# StratifiedKFold를 이용한 교차검정"
   ]
  },
  {
   "cell_type": "markdown",
   "id": "2fc41df9-7878-4279-84b5-0cb4fd1816f1",
   "metadata": {},
   "source": [
    "###### 불균형한 데이터셋을 위한 방법이다.\n",
    "###### 예를 들면 True_label=10000 False_label=10 인 경우이다.\n",
    "###### 이 경우, KFold로 나누면 모든 값이 True_label이 존재하는 경우가 생길 것이다.\n",
    "###### 그렇다면 모든 것이 True_label가 되므로 정확도가 떨어진다.\n",
    "###### 따라서 이 때 StratifiedKFold를 사용한다.\n",
    "#### 간단히 말하자면 StratifiedKFold는 target의 속성의 개수를 같게 해주는 기법이다."
   ]
  },
  {
   "cell_type": "code",
   "execution_count": 5,
   "id": "7019ca93-2b1a-47ea-bb25-b7b1f45ac1a2",
   "metadata": {},
   "outputs": [
    {
     "data": {
      "text/html": [
       "<div>\n",
       "<style scoped>\n",
       "    .dataframe tbody tr th:only-of-type {\n",
       "        vertical-align: middle;\n",
       "    }\n",
       "\n",
       "    .dataframe tbody tr th {\n",
       "        vertical-align: top;\n",
       "    }\n",
       "\n",
       "    .dataframe thead th {\n",
       "        text-align: right;\n",
       "    }\n",
       "</style>\n",
       "<table border=\"1\" class=\"dataframe\">\n",
       "  <thead>\n",
       "    <tr style=\"text-align: right;\">\n",
       "      <th></th>\n",
       "      <th>sepal length (cm)</th>\n",
       "      <th>sepal width (cm)</th>\n",
       "      <th>petal length (cm)</th>\n",
       "      <th>petal width (cm)</th>\n",
       "      <th>label</th>\n",
       "    </tr>\n",
       "  </thead>\n",
       "  <tbody>\n",
       "    <tr>\n",
       "      <th>0</th>\n",
       "      <td>5.1</td>\n",
       "      <td>3.5</td>\n",
       "      <td>1.4</td>\n",
       "      <td>0.2</td>\n",
       "      <td>0</td>\n",
       "    </tr>\n",
       "    <tr>\n",
       "      <th>1</th>\n",
       "      <td>4.9</td>\n",
       "      <td>3.0</td>\n",
       "      <td>1.4</td>\n",
       "      <td>0.2</td>\n",
       "      <td>0</td>\n",
       "    </tr>\n",
       "    <tr>\n",
       "      <th>2</th>\n",
       "      <td>4.7</td>\n",
       "      <td>3.2</td>\n",
       "      <td>1.3</td>\n",
       "      <td>0.2</td>\n",
       "      <td>0</td>\n",
       "    </tr>\n",
       "  </tbody>\n",
       "</table>\n",
       "</div>"
      ],
      "text/plain": [
       "   sepal length (cm)  sepal width (cm)  petal length (cm)  petal width (cm)  \\\n",
       "0                5.1               3.5                1.4               0.2   \n",
       "1                4.9               3.0                1.4               0.2   \n",
       "2                4.7               3.2                1.3               0.2   \n",
       "\n",
       "   label  \n",
       "0      0  \n",
       "1      0  \n",
       "2      0  "
      ]
     },
     "execution_count": 5,
     "metadata": {},
     "output_type": "execute_result"
    }
   ],
   "source": [
    "import pandas as pd\n",
    "iris_data=load_iris()\n",
    "iris_df=pd.DataFrame(iris_data.data,columns=iris_data.feature_names)\n",
    "iris_df['label']=iris_data.target\n",
    "iris_df.head(3)"
   ]
  },
  {
   "cell_type": "code",
   "execution_count": 6,
   "id": "dfff309e-2f29-4a21-977b-cccb72818af8",
   "metadata": {},
   "outputs": [
    {
     "data": {
      "text/plain": [
       "0    50\n",
       "1    50\n",
       "2    50\n",
       "Name: label, dtype: int64"
      ]
     },
     "execution_count": 6,
     "metadata": {},
     "output_type": "execute_result"
    }
   ],
   "source": [
    "iris_df['label'].value_counts()"
   ]
  },
  {
   "cell_type": "code",
   "execution_count": 7,
   "id": "f1f89be3-9057-45b4-b5bb-d030a54938c0",
   "metadata": {},
   "outputs": [
    {
     "name": "stdout",
     "output_type": "stream",
     "text": [
      "[교차검증 1]\n",
      "학습용 레이블 분포: \n",
      " 2    34\n",
      "0    33\n",
      "1    33\n",
      "Name: label, dtype: int64\n",
      "검증용 레이블 분포: \n",
      " 2    30\n",
      "Name: label, dtype: int64\n",
      "[교차검증 2]\n",
      "학습용 레이블 분포: \n",
      " 1    34\n",
      "0    33\n",
      "2    33\n",
      "Name: label, dtype: int64\n",
      "검증용 레이블 분포: \n",
      " 2    30\n",
      "Name: label, dtype: int64\n",
      "[교차검증 3]\n",
      "학습용 레이블 분포: \n",
      " 0    34\n",
      "1    33\n",
      "2    33\n",
      "Name: label, dtype: int64\n",
      "검증용 레이블 분포: \n",
      " 2    30\n",
      "Name: label, dtype: int64\n"
     ]
    }
   ],
   "source": [
    "from sklearn.model_selection import StratifiedKFold\n",
    "\n",
    "skf = StratifiedKFold(n_splits =3)\n",
    "n = 0\n",
    "\n",
    "for train_index, text_index in skf.split(iris_df, iris_df['label']):\n",
    "    n = n+1\n",
    "    \n",
    "    label_train = iris_df['label'].iloc[train_index]\n",
    "    label_test = iris_df['label'].iloc[test_index]\n",
    "    print(\"[교차검증 %d]\" % n)\n",
    "    print('학습용 레이블 분포: \\n', label_train.value_counts())\n",
    "    print('검증용 레이블 분포: \\n', label_test.value_counts())"
   ]
  },
  {
   "cell_type": "code",
   "execution_count": 8,
   "id": "ea6e6256-e3bd-4824-bc87-58110cfe193c",
   "metadata": {},
   "outputs": [],
   "source": [
    "# DTC 객체 생성\n",
    "dt_clf = DecisionTreeClassifier(random_state=156)\n",
    "\n",
    "# 3개의 폴드 세트로 분리하는 StratifiedKFold 객체 생성\n",
    "skfold = StratifiedKFold(n_splits=3)\n",
    "\n",
    "# 폴드 세트별 정확도를 담을 리스트 객체 생성\n",
    "cv_accuracy = []\n",
    "n = 0"
   ]
  },
  {
   "cell_type": "code",
   "execution_count": 9,
   "id": "e0e805cf-5ce5-446f-9021-ea0fd800cf65",
   "metadata": {},
   "outputs": [
    {
     "name": "stdout",
     "output_type": "stream",
     "text": [
      "1 \n",
      " 정확도 : 0.980000, 학습데이터 크기 : 100, 검증데이터 크기 : 50\n",
      "2 \n",
      " 정확도 : 0.940000, 학습데이터 크기 : 100, 검증데이터 크기 : 50\n",
      "3 \n",
      " 정확도 : 0.980000, 학습데이터 크기 : 100, 검증데이터 크기 : 50\n",
      "평균 검증 정확도 :  1.0\n"
     ]
    }
   ],
   "source": [
    "n=0\n",
    "\n",
    "iris=load_n = 0\n",
    "\n",
    "# 폴드별 학습용, 검증용 데이터 세트의 행 인덱스 확인\n",
    "for train_index, test_index in skfold.split(features, label):\n",
    "    X_train, X_test = features[train_index], features[test_index]\n",
    "    y_train = label[train_index]\n",
    "    y_test = label[test_index]\n",
    "    \n",
    "    # 학습 및 예측\n",
    "    dt_clf.fit(X_train, y_train)\n",
    "    pred = dt_clf.predict(X_test)\n",
    "    \n",
    "    # 반복시마다 정확도 측정\n",
    "    n +=1\n",
    "    acc = np.round(accuracy_score(y_test, pred), 3)\n",
    "    train_size = X_train.shape[0]\n",
    "    test_size = X_test.shape[0]\n",
    "    \n",
    "    print('%d \\n 정확도 : %f, 학습데이터 크기 : %d, 검증데이터 크기 : %d' %(n, acc, train_size, test_size))\n",
    "    cv_accuracy.append(acc)\n",
    "\n",
    "print('평균 검증 정확도 : ', np.mean(cv_accuracy).round(1))"
   ]
  },
  {
   "cell_type": "markdown",
   "id": "879569e4-8a40-4c5a-b210-509d33ce8a79",
   "metadata": {},
   "source": [
    "---------------------------------------------------------------------"
   ]
  },
  {
   "cell_type": "markdown",
   "id": "7798f9c0-e870-48f4-9f47-c5b090babd71",
   "metadata": {},
   "source": [
    "###### StratifiedKFold는 target의 속성의 개수를 같게 해주는 기법이므로 정확도가 높다.\n",
    "###### 실제로 평균 검증 정확도를 KFold와 비교해보면 KFold보다 정확도가 높은 것을 확인할 수 있다"
   ]
  }
 ],
 "metadata": {
  "kernelspec": {
   "display_name": "Python Multi",
   "language": "python",
   "name": "multi"
  },
  "language_info": {
   "codemirror_mode": {
    "name": "ipython",
    "version": 3
   },
   "file_extension": ".py",
   "mimetype": "text/x-python",
   "name": "python",
   "nbconvert_exporter": "python",
   "pygments_lexer": "ipython3",
   "version": "3.7.6"
  }
 },
 "nbformat": 4,
 "nbformat_minor": 5
}
