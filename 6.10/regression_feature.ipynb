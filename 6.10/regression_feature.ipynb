{
 "cells": [
  {
   "cell_type": "markdown",
   "id": "olive-decrease",
   "metadata": {},
   "source": [
    "### Regression Feature Selection:\n",
    "(Numerical Input, Numerical Output)"
   ]
  },
  {
   "cell_type": "markdown",
   "id": "saved-values",
   "metadata": {},
   "source": [
    "Feature selection is performed using Pearson’s Correlation Coefficient via the f_regression() function."
   ]
  },
  {
   "cell_type": "code",
   "execution_count": 1,
   "id": "c42d4a37-3d3f-4a0e-84e5-c9b2bb3b7e1e",
   "metadata": {},
   "outputs": [],
   "source": [
    "# pearson's correlation feature selection for numeric input and numeric output\n",
    "from sklearn.datasets import make_regression\n",
    "from sklearn.feature_selection import SelectKBest\n",
    "from sklearn.feature_selection import f_regression"
   ]
  },
  {
   "cell_type": "code",
   "execution_count": 2,
   "id": "13bc4b7b-bdfc-417e-b4ae-2710058eb703",
   "metadata": {},
   "outputs": [],
   "source": [
    "# generate dataset\n",
    "X, y = make_regression(n_samples=100, n_features=100, n_informative=10)"
   ]
  },
  {
   "cell_type": "code",
   "execution_count": 5,
   "id": "9b907ffa-a90f-48af-b86e-7ab9d5f8f4ac",
   "metadata": {},
   "outputs": [
    {
     "data": {
      "text/plain": [
       "(100, 100)"
      ]
     },
     "execution_count": 5,
     "metadata": {},
     "output_type": "execute_result"
    }
   ],
   "source": [
    "X.shape"
   ]
  },
  {
   "cell_type": "code",
   "execution_count": 6,
   "id": "ea75d0ae-6fcf-4f3a-9f47-43a366c3e329",
   "metadata": {},
   "outputs": [
    {
     "data": {
      "text/plain": [
       "(100,)"
      ]
     },
     "execution_count": 6,
     "metadata": {},
     "output_type": "execute_result"
    }
   ],
   "source": [
    "y.shape"
   ]
  },
  {
   "cell_type": "code",
   "execution_count": 3,
   "id": "3e125dad-8d7f-45db-a1c2-c7ca73d9fd68",
   "metadata": {},
   "outputs": [],
   "source": [
    "# define feature selection\n",
    "fs = SelectKBest(score_func=f_regression, k=10)"
   ]
  },
  {
   "cell_type": "code",
   "execution_count": 4,
   "id": "1d2f6bc1-2157-4c43-be7a-ef96b57f7aa0",
   "metadata": {},
   "outputs": [
    {
     "name": "stdout",
     "output_type": "stream",
     "text": [
      "(100, 10)\n"
     ]
    }
   ],
   "source": [
    "# apply feature selection\n",
    "X_selected = fs.fit_transform(X, y)\n",
    "print(X_selected.shape)"
   ]
  },
  {
   "cell_type": "code",
   "execution_count": null,
   "id": "adjacent-private",
   "metadata": {},
   "outputs": [],
   "source": []
  }
 ],
 "metadata": {
  "kernelspec": {
   "display_name": "Python Multi",
   "language": "python",
   "name": "multi"
  },
  "language_info": {
   "codemirror_mode": {
    "name": "ipython",
    "version": 3
   },
   "file_extension": ".py",
   "mimetype": "text/x-python",
   "name": "python",
   "nbconvert_exporter": "python",
   "pygments_lexer": "ipython3",
   "version": "3.7.6"
  }
 },
 "nbformat": 4,
 "nbformat_minor": 5
}
