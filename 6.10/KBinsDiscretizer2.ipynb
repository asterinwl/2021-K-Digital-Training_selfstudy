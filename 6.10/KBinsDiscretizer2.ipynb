{
 "cells": [
  {
   "cell_type": "markdown",
   "id": "peaceful-means",
   "metadata": {},
   "source": [
    "### KBinsDiscretizer"
   ]
  },
  {
   "cell_type": "code",
   "execution_count": 1,
   "id": "authorized-healing",
   "metadata": {},
   "outputs": [],
   "source": [
    "# discretize numeric input variables\n",
    "from sklearn.datasets import make_classification\n",
    "from sklearn.preprocessing import KBinsDiscretizer\n",
    "import pandas as pd"
   ]
  },
  {
   "cell_type": "code",
   "execution_count": 2,
   "id": "89f9f4fb-4e5d-4cca-a368-c64b5f32fc49",
   "metadata": {},
   "outputs": [],
   "source": [
    "# define dataset\n",
    "X, y = make_classification(n_samples=10000000,n_features=5,n_informative=5,n_redundant=0,random_state=1)\n",
    "#n_informative=5,  n_redundant=0"
   ]
  },
  {
   "cell_type": "code",
   "execution_count": 3,
   "id": "c0f4d1cd-7da6-4d44-a987-4107cf5793b4",
   "metadata": {},
   "outputs": [
    {
     "data": {
      "text/plain": [
       "(10000000, 5)"
      ]
     },
     "execution_count": 3,
     "metadata": {},
     "output_type": "execute_result"
    }
   ],
   "source": [
    "X.shape"
   ]
  },
  {
   "cell_type": "code",
   "execution_count": 4,
   "id": "9b7cd1c5-d8e2-4108-80ae-61dd626ecff6",
   "metadata": {},
   "outputs": [
    {
     "data": {
      "text/plain": [
       "(10000000,)"
      ]
     },
     "execution_count": 4,
     "metadata": {},
     "output_type": "execute_result"
    }
   ],
   "source": [
    "y.shape"
   ]
  },
  {
   "cell_type": "code",
   "execution_count": 5,
   "id": "ca0f30b8-7a82-45b7-8bc7-c6bc65ca5305",
   "metadata": {},
   "outputs": [
    {
     "data": {
      "text/plain": [
       "0.4999895"
      ]
     },
     "execution_count": 5,
     "metadata": {},
     "output_type": "execute_result"
    }
   ],
   "source": [
    "y.mean()"
   ]
  },
  {
   "cell_type": "code",
   "execution_count": 6,
   "id": "ba94ab52-470f-4d74-9c87-82bbbf286766",
   "metadata": {},
   "outputs": [
    {
     "data": {
      "text/plain": [
       "array([-2.41602944,  3.53877523,  1.08699914, -1.14998724,  1.66532652])"
      ]
     },
     "execution_count": 6,
     "metadata": {},
     "output_type": "execute_result"
    }
   ],
   "source": [
    "X[0,:]"
   ]
  },
  {
   "cell_type": "code",
   "execution_count": 7,
   "id": "76502e55-4243-40a7-bbcc-e01481cf04d3",
   "metadata": {},
   "outputs": [
    {
     "data": {
      "text/plain": [
       "-9.161245825652301"
      ]
     },
     "execution_count": 7,
     "metadata": {},
     "output_type": "execute_result"
    }
   ],
   "source": [
    "X.min()"
   ]
  },
  {
   "cell_type": "code",
   "execution_count": 8,
   "id": "5c913432-a1ec-4dd7-bfe5-23e2a4356e36",
   "metadata": {},
   "outputs": [
    {
     "data": {
      "text/plain": [
       "10.470964647707039"
      ]
     },
     "execution_count": 8,
     "metadata": {},
     "output_type": "execute_result"
    }
   ],
   "source": [
    "X.max()"
   ]
  },
  {
   "cell_type": "code",
   "execution_count": 9,
   "id": "46e1e780-4432-4d07-9f8d-117b236c067f",
   "metadata": {},
   "outputs": [
    {
     "name": "stdout",
     "output_type": "stream",
     "text": [
      "[[-2.41602944  3.53877523  1.08699914 -1.14998724  1.66532652]\n",
      " [-1.34179523 -0.4944328  -3.42753105 -1.11961521  1.05813827]\n",
      " [ 0.82625612  1.10747471  1.42956658 -0.7005112   1.36443385]]\n"
     ]
    }
   ],
   "source": [
    "# summarize data before the transform\n",
    "print(X[:3, :])"
   ]
  },
  {
   "cell_type": "code",
   "execution_count": 10,
   "id": "exceptional-policy",
   "metadata": {},
   "outputs": [],
   "source": [
    "# define the transform\n",
    "trans = KBinsDiscretizer(n_bins=10, encode='ordinal', strategy='uniform')\n",
    "#n_bins=10이면 0~9사이의 값이 나옴"
   ]
  },
  {
   "cell_type": "code",
   "execution_count": 11,
   "id": "1f7b7343-562d-497b-af9b-dc06a1f718ba",
   "metadata": {},
   "outputs": [],
   "source": [
    "# transform the data\n",
    "X_discrete = trans.fit_transform(X)"
   ]
  },
  {
   "cell_type": "code",
   "execution_count": 12,
   "id": "3674b98a-fac2-474b-b1a9-bd5218dfc70b",
   "metadata": {},
   "outputs": [
    {
     "data": {
      "text/plain": [
       "array([-2.41602944,  3.53877523,  1.08699914, -1.14998724,  1.66532652])"
      ]
     },
     "execution_count": 12,
     "metadata": {},
     "output_type": "execute_result"
    }
   ],
   "source": [
    "X[0,:]"
   ]
  },
  {
   "cell_type": "code",
   "execution_count": 13,
   "id": "9a14c0ce-c657-48f4-b2b9-374c496b6017",
   "metadata": {},
   "outputs": [
    {
     "name": "stdout",
     "output_type": "stream",
     "text": [
      "[3. 6. 6. 4. 5.]\n"
     ]
    }
   ],
   "source": [
    "print(X_discrete[0, :])"
   ]
  },
  {
   "cell_type": "code",
   "execution_count": 14,
   "id": "7649c1d3-8a30-4c62-a917-4b0de6ebfb2b",
   "metadata": {},
   "outputs": [
    {
     "name": "stdout",
     "output_type": "stream",
     "text": [
      "[[3. 6. 6. 4. 5.]\n",
      " [4. 3. 3. 4. 4.]\n",
      " [5. 5. 6. 4. 5.]]\n"
     ]
    }
   ],
   "source": [
    "# summarize data after the transform\n",
    "print(X_discrete[:3, :])"
   ]
  },
  {
   "cell_type": "code",
   "execution_count": 15,
   "id": "large-swedish",
   "metadata": {},
   "outputs": [
    {
     "data": {
      "text/plain": [
       "array([-1.34179523, -0.4944328 , -3.42753105, -1.11961521,  1.05813827])"
      ]
     },
     "execution_count": 15,
     "metadata": {},
     "output_type": "execute_result"
    }
   ],
   "source": [
    "X[1,:]"
   ]
  },
  {
   "cell_type": "code",
   "execution_count": 16,
   "id": "770abcba-96ce-486b-988e-4b1c141535a2",
   "metadata": {},
   "outputs": [
    {
     "name": "stdout",
     "output_type": "stream",
     "text": [
      "[4. 3. 3. 4. 4.]\n"
     ]
    }
   ],
   "source": [
    "print(X_discrete[1, :])"
   ]
  },
  {
   "cell_type": "code",
   "execution_count": 17,
   "id": "ef9a43aa-d2d2-4bca-9453-b139072415b9",
   "metadata": {},
   "outputs": [],
   "source": [
    "data=pd.DataFrame(X)"
   ]
  },
  {
   "cell_type": "code",
   "execution_count": 18,
   "id": "181ba305-4408-4089-b567-331a2d94c3d8",
   "metadata": {},
   "outputs": [
    {
     "data": {
      "text/html": [
       "<div>\n",
       "<style scoped>\n",
       "    .dataframe tbody tr th:only-of-type {\n",
       "        vertical-align: middle;\n",
       "    }\n",
       "\n",
       "    .dataframe tbody tr th {\n",
       "        vertical-align: top;\n",
       "    }\n",
       "\n",
       "    .dataframe thead th {\n",
       "        text-align: right;\n",
       "    }\n",
       "</style>\n",
       "<table border=\"1\" class=\"dataframe\">\n",
       "  <thead>\n",
       "    <tr style=\"text-align: right;\">\n",
       "      <th></th>\n",
       "      <th>0</th>\n",
       "      <th>1</th>\n",
       "      <th>2</th>\n",
       "      <th>3</th>\n",
       "      <th>4</th>\n",
       "    </tr>\n",
       "  </thead>\n",
       "  <tbody>\n",
       "    <tr>\n",
       "      <th>count</th>\n",
       "      <td>10000000.00</td>\n",
       "      <td>10000000.00</td>\n",
       "      <td>10000000.00</td>\n",
       "      <td>10000000.00</td>\n",
       "      <td>10000000.00</td>\n",
       "    </tr>\n",
       "    <tr>\n",
       "      <th>mean</th>\n",
       "      <td>0.00</td>\n",
       "      <td>1.00</td>\n",
       "      <td>-0.50</td>\n",
       "      <td>-0.50</td>\n",
       "      <td>0.50</td>\n",
       "    </tr>\n",
       "    <tr>\n",
       "      <th>std</th>\n",
       "      <td>1.52</td>\n",
       "      <td>1.37</td>\n",
       "      <td>1.66</td>\n",
       "      <td>1.49</td>\n",
       "      <td>1.63</td>\n",
       "    </tr>\n",
       "    <tr>\n",
       "      <th>min</th>\n",
       "      <td>-7.86</td>\n",
       "      <td>-6.41</td>\n",
       "      <td>-9.16</td>\n",
       "      <td>-7.66</td>\n",
       "      <td>-7.75</td>\n",
       "    </tr>\n",
       "    <tr>\n",
       "      <th>25%</th>\n",
       "      <td>-1.08</td>\n",
       "      <td>0.13</td>\n",
       "      <td>-1.66</td>\n",
       "      <td>-1.50</td>\n",
       "      <td>-0.54</td>\n",
       "    </tr>\n",
       "    <tr>\n",
       "      <th>50%</th>\n",
       "      <td>0.12</td>\n",
       "      <td>1.00</td>\n",
       "      <td>-0.44</td>\n",
       "      <td>-0.64</td>\n",
       "      <td>0.59</td>\n",
       "    </tr>\n",
       "    <tr>\n",
       "      <th>75%</th>\n",
       "      <td>1.10</td>\n",
       "      <td>1.87</td>\n",
       "      <td>0.72</td>\n",
       "      <td>0.40</td>\n",
       "      <td>1.58</td>\n",
       "    </tr>\n",
       "    <tr>\n",
       "      <th>max</th>\n",
       "      <td>7.26</td>\n",
       "      <td>8.63</td>\n",
       "      <td>7.67</td>\n",
       "      <td>7.49</td>\n",
       "      <td>10.47</td>\n",
       "    </tr>\n",
       "  </tbody>\n",
       "</table>\n",
       "</div>"
      ],
      "text/plain": [
       "                 0            1            2            3            4\n",
       "count  10000000.00  10000000.00  10000000.00  10000000.00  10000000.00\n",
       "mean          0.00         1.00        -0.50        -0.50         0.50\n",
       "std           1.52         1.37         1.66         1.49         1.63\n",
       "min          -7.86        -6.41        -9.16        -7.66        -7.75\n",
       "25%          -1.08         0.13        -1.66        -1.50        -0.54\n",
       "50%           0.12         1.00        -0.44        -0.64         0.59\n",
       "75%           1.10         1.87         0.72         0.40         1.58\n",
       "max           7.26         8.63         7.67         7.49        10.47"
      ]
     },
     "execution_count": 18,
     "metadata": {},
     "output_type": "execute_result"
    }
   ],
   "source": [
    "data.describe().round(2)"
   ]
  },
  {
   "cell_type": "code",
   "execution_count": 19,
   "id": "ddf3f371-8648-48a7-83b0-4cbf36bb82e4",
   "metadata": {},
   "outputs": [
    {
     "data": {
      "text/plain": [
       "0   -2.416029\n",
       "1    3.538775\n",
       "2    1.086999\n",
       "3   -1.149987\n",
       "4    1.665327\n",
       "Name: 0, dtype: float64"
      ]
     },
     "execution_count": 19,
     "metadata": {},
     "output_type": "execute_result"
    }
   ],
   "source": [
    "data.iloc[0,:]"
   ]
  },
  {
   "cell_type": "code",
   "execution_count": null,
   "id": "ebf64d56-a3ed-40f7-9a66-19dfaa4e960f",
   "metadata": {},
   "outputs": [],
   "source": []
  }
 ],
 "metadata": {
  "kernelspec": {
   "display_name": "Python Multi",
   "language": "python",
   "name": "multi"
  },
  "language_info": {
   "codemirror_mode": {
    "name": "ipython",
    "version": 3
   },
   "file_extension": ".py",
   "mimetype": "text/x-python",
   "name": "python",
   "nbconvert_exporter": "python",
   "pygments_lexer": "ipython3",
   "version": "3.7.6"
  }
 },
 "nbformat": 4,
 "nbformat_minor": 5
}
