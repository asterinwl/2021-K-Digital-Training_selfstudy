{
 "cells": [
  {
   "cell_type": "markdown",
   "metadata": {},
   "source": [
    "<h3>Google Image Scrapper for Juypter Notebook</h3>"
   ]
  },
  {
   "cell_type": "code",
   "execution_count": null,
   "metadata": {},
   "outputs": [],
   "source": [
    "#!pip install selenium==4.0.0a6\n",
    "#pip install google_images_download\n",
    "#pip install --upgrade google-api-python-client"
   ]
  },
  {
   "cell_type": "code",
   "execution_count": 1,
   "metadata": {},
   "outputs": [],
   "source": [
    "from GoogleImageScrapper import GoogleImageScraper\n",
    "import os\n",
    "import time"
   ]
  },
  {
   "cell_type": "code",
   "execution_count": 2,
   "metadata": {},
   "outputs": [],
   "source": [
    "sleep_between_interactions = 1\n",
    "webdriver_path = os.getcwd()+\".\\\\webdriver\\\\chromedriver.exe\""
   ]
  },
  {
   "cell_type": "code",
   "execution_count": 3,
   "metadata": {},
   "outputs": [],
   "source": [
    "image_path = os.getcwd()+\".\\\\images\""
   ]
  },
  {
   "cell_type": "code",
   "execution_count": 4,
   "metadata": {},
   "outputs": [
    {
     "name": "stdout",
     "output_type": "stream",
     "text": [
      "GoogleImageScraper Notification: Scraping for image link... Please wait.\n",
      "0. https://www.thesprucepets.com/thmb/_yrib2KGkS4VJSgCQEl59KPUPOU=/1885x1414/smart/filters:no_upscale()/GettyImages-135630198-5ba7d225c9e77c0050cff91b.jpg\n",
      "1. https://www.nrcm.org/wp-content/uploads/2018/03/raccoon-in-winter-2-South-China-Jayne-Winters.jpg\n",
      "GoogleImageScraper Notification: Saving Image... Please wait.\n",
      "0 .Image saved at: C:\\Users\\admin\\Desktop\\datastudy\\day30\\2021-K-Digital-Training-main\\Web_Crawling.\\images\\raccoon0.jpg\n",
      "1 .Image saved at: C:\\Users\\admin\\Desktop\\datastudy\\day30\\2021-K-Digital-Training-main\\Web_Crawling.\\images\\raccoon1.jpg\n",
      "GoogleImageScraper Notification: Download Completed.\n"
     ]
    }
   ],
   "source": [
    "#image_path = os.getcwd()+\"\\\\photos\"\n",
    "#add new search key into array [\"cat\",\"t-shirt\",\"apple\",\"orange\",\"pear\",\"fish\"]\n",
    "#search_keys= [\"woodpecker\",\"owl\"]\n",
    "search_keys= [\"raccoon\"]\n",
    "number_of_images = 10\n",
    "headless = False  #창이 뜸\n",
    "#min_resolution = (width,height)\n",
    "min_resolution=(0,0)\n",
    "#max_resolution = (width,height)\n",
    "max_resolution=(2000,2000)\n",
    "for search_key in search_keys:\n",
    "    image_scrapper = GoogleImageScraper(webdriver_path,image_path,search_key,number_of_images,headless,min_resolution,max_resolution)\n",
    "    image_urls = image_scrapper.find_image_urls()\n",
    "    image_scrapper.save_images(image_urls)\n",
    "    time.sleep(sleep_between_interactions)"
   ]
  },
  {
   "cell_type": "code",
   "execution_count": 5,
   "metadata": {},
   "outputs": [
    {
     "name": "stdout",
     "output_type": "stream",
     "text": [
      "GoogleImageScraper Notification: Scraping for image link... Please wait.\n",
      "0. https://upload.wikimedia.org/wikipedia/commons/thumb/4/43/07._Camel_Profile%2C_near_Silverton%2C_NSW%2C_07.07.2007.jpg/1200px-07._Camel_Profile%2C_near_Silverton%2C_NSW%2C_07.07.2007.jpg\n",
      "1. https://www.sciencenewsforstudents.org/wp-content/uploads/2021/01/1030_improving_the_camel.jpg\n",
      "2. https://foodtank.com/wp-content/uploads/2020/12/Food-Tank-Camel-Milk-National-Food-Institute-FAO-Haramaya-University.jpg\n",
      "3. https://cdn.britannica.com/94/152294-050-92FE0C83/Arabian-dromedary-camel.jpg\n",
      "4. https://i0.wp.com/see.news/wp-content/uploads/2019/07/Camel.jpg\n",
      "5. https://www.anthropocenemagazine.org/wp-content/uploads/2020/11/camel2.jpg\n",
      "6. https://cdn.britannica.com/71/118771-050-C1CFADBA/Dromedary-rider.jpg\n",
      "7. https://res.cloudinary.com/dk-find-out/image/upload/q_80,w_1920,f_auto/MA_00108144_m2gljt.jpg\n",
      "8. http://4.bp.blogspot.com/-uvWr3WgX5dI/Vo9gc9j8hwI/AAAAAAAAAC0/1pccN7UwExE/s1600/kamela.jpg\n",
      "GoogleImageScraper Notification: Saving Image... Please wait.\n",
      "0 .Image saved at: C:\\Users\\admin\\Desktop\\datastudy\\day30\\2021-K-Digital-Training-main\\Web_Crawling.\\images\\camel0.jpg\n",
      "1 .Image saved at: C:\\Users\\admin\\Desktop\\datastudy\\day30\\2021-K-Digital-Training-main\\Web_Crawling.\\images\\camel1.jpg\n",
      "2 .Image saved at: C:\\Users\\admin\\Desktop\\datastudy\\day30\\2021-K-Digital-Training-main\\Web_Crawling.\\images\\camel2.jpg\n",
      "3 .Image saved at: C:\\Users\\admin\\Desktop\\datastudy\\day30\\2021-K-Digital-Training-main\\Web_Crawling.\\images\\camel3.jpg\n",
      "4 .Image saved at: C:\\Users\\admin\\Desktop\\datastudy\\day30\\2021-K-Digital-Training-main\\Web_Crawling.\\images\\camel4.jpg\n",
      "5 .Image saved at: C:\\Users\\admin\\Desktop\\datastudy\\day30\\2021-K-Digital-Training-main\\Web_Crawling.\\images\\camel5.jpg\n",
      "6 .Image saved at: C:\\Users\\admin\\Desktop\\datastudy\\day30\\2021-K-Digital-Training-main\\Web_Crawling.\\images\\camel6.jpg\n",
      "7 .Image saved at: C:\\Users\\admin\\Desktop\\datastudy\\day30\\2021-K-Digital-Training-main\\Web_Crawling.\\images\\camel7.jpg\n",
      "8 .Image saved at: C:\\Users\\admin\\Desktop\\datastudy\\day30\\2021-K-Digital-Training-main\\Web_Crawling.\\images\\camel8.jpg\n",
      "GoogleImageScraper Notification: Download Completed.\n"
     ]
    }
   ],
   "source": [
    "#image_path = os.getcwd()+\"\\\\photos\"\n",
    "#add new search key into array [\"cat\",\"t-shirt\",\"apple\",\"orange\",\"pear\",\"fish\"]\n",
    "#search_keys= [\"woodpecker\",\"owl\"]\n",
    "search_keys= [\"camel\"]\n",
    "number_of_images = 10\n",
    "headless = True  #창이 뜨지 않음\n",
    "#min_resolution = (width,height)\n",
    "min_resolution=(0,0)\n",
    "#max_resolution = (width,height)\n",
    "max_resolution=(2000,2000)\n",
    "for search_key in search_keys:\n",
    "    image_scrapper = GoogleImageScraper(webdriver_path,image_path,search_key,number_of_images,headless,min_resolution,max_resolution)\n",
    "    image_urls = image_scrapper.find_image_urls()\n",
    "    image_scrapper.save_images(image_urls)\n",
    "    time.sleep(sleep_between_interactions)"
   ]
  },
  {
   "cell_type": "code",
   "execution_count": 6,
   "metadata": {},
   "outputs": [
    {
     "name": "stdout",
     "output_type": "stream",
     "text": [
      "GoogleImageScraper Notification: Scraping for image link... Please wait.\n",
      "0. https://cdn.vox-cdn.com/thumbor/zRmoFB5CcFWNFexDZYzTxsPEVTE=/1400x1400/filters:format(jpeg)/cdn.vox-cdn.com/uploads/chorus_asset/file/21874910/iStock_501591918.jpg\n",
      "1. https://upload.wikimedia.org/wikipedia/commons/1/12/PileatedWoodpeckerFeedingonTree%2C_crop.jpg\n",
      "2. https://site-547756.mozfiles.com/files/547756/medium/Woodpecker.jpg\n",
      "GoogleImageScraper Skip: Unable to get the link for this photo\n",
      "3. https://upload.wikimedia.org/wikipedia/commons/6/65/Woodpecker_20040529_151837_1c_cropped.JPG\n",
      "GoogleImageScraper Notification: Saving Image... Please wait.\n",
      "0 .Image saved at: C:\\Users\\admin\\Desktop\\datastudy\\day30\\2021-K-Digital-Training-main\\Web_Crawling.\\images\\woodpecker0.jpg\n",
      "1 .Image saved at: C:\\Users\\admin\\Desktop\\datastudy\\day30\\2021-K-Digital-Training-main\\Web_Crawling.\\images\\woodpecker1.jpg\n",
      "2 .Image saved at: C:\\Users\\admin\\Desktop\\datastudy\\day30\\2021-K-Digital-Training-main\\Web_Crawling.\\images\\woodpecker2.jpg\n",
      "3 .Image saved at: C:\\Users\\admin\\Desktop\\datastudy\\day30\\2021-K-Digital-Training-main\\Web_Crawling.\\images\\woodpecker3.jpg\n",
      "GoogleImageScraper Notification: Download Completed.\n"
     ]
    }
   ],
   "source": [
    "#image_path = os.getcwd()+\"\\\\photos\"\n",
    "#add new search key into array [\"cat\",\"t-shirt\",\"apple\",\"orange\",\"pear\",\"fish\"]\n",
    "#search_keys= [\"woodpecker\",\"owl\"]\n",
    "search_keys= [\"woodpecker\"]\n",
    "number_of_images = 10\n",
    "headless = True  #창이 뜨지 않음\n",
    "#min_resolution = (width,height)\n",
    "min_resolution=(0,0)\n",
    "#max_resolution = (width,height)\n",
    "max_resolution=(2000,2000)\n",
    "for search_key in search_keys:\n",
    "    image_scrapper = GoogleImageScraper(webdriver_path,image_path,search_key,number_of_images,headless,min_resolution,max_resolution)\n",
    "    image_urls = image_scrapper.find_image_urls()\n",
    "    image_scrapper.save_images(image_urls)\n",
    "    time.sleep(sleep_between_interactions)"
   ]
  },
  {
   "cell_type": "code",
   "execution_count": 7,
   "metadata": {},
   "outputs": [
    {
     "name": "stdout",
     "output_type": "stream",
     "text": [
      "GoogleImageScraper Notification: Scraping for image link... Please wait.\n",
      "0. https://upload.wikimedia.org/wikipedia/commons/thumb/b/b0/Bengal_tiger_%28Panthera_tigris_tigris%29_female_3_crop.jpg/1200px-Bengal_tiger_%28Panthera_tigris_tigris%29_female_3_crop.jpg\n",
      "1. https://ichef.bbci.co.uk/news/976/cpsprodpb/9A50/production/_118740593_gettyimages-1231144196.jpg\n",
      "GoogleImageScraper Notification: Saving Image... Please wait.\n",
      "0 .Image saved at: C:\\Users\\admin\\Desktop\\datastudy\\day30\\2021-K-Digital-Training-main\\Web_Crawling.\\images\\tiger0.jpg\n",
      "1 .Image saved at: C:\\Users\\admin\\Desktop\\datastudy\\day30\\2021-K-Digital-Training-main\\Web_Crawling.\\images\\tiger1.jpg\n",
      "GoogleImageScraper Notification: Download Completed.\n"
     ]
    }
   ],
   "source": [
    "#image_path = os.getcwd()+\"\\\\photos\"\n",
    "#add new search key into array [\"cat\",\"t-shirt\",\"apple\",\"orange\",\"pear\",\"fish\"]\n",
    "#search_keys= [\"woodpecker\",\"owl\"]\n",
    "search_keys= [\"tiger\"]\n",
    "number_of_images = 15\n",
    "headless = False  #창이 뜨지 않음\n",
    "#min_resolution = (width,height)\n",
    "min_resolution=(0,0)\n",
    "#max_resolution = (width,height)\n",
    "max_resolution=(2000,2000)\n",
    "for search_key in search_keys:\n",
    "    image_scrapper = GoogleImageScraper(webdriver_path,image_path,search_key,number_of_images,headless,min_resolution,max_resolution)\n",
    "    image_urls = image_scrapper.find_image_urls()\n",
    "    image_scrapper.save_images(image_urls)\n",
    "    time.sleep(sleep_between_interactions)"
   ]
  },
  {
   "cell_type": "code",
   "execution_count": 8,
   "metadata": {},
   "outputs": [
    {
     "name": "stdout",
     "output_type": "stream",
     "text": [
      "GoogleImageScraper Notification: Scraping for image link... Please wait.\n",
      "0. https://www.hyundai.com/content/hyundai/ww/data/news/data/2021/0000016609/image/newsroom-0112-photo-1-2021elantranline-1120x745.jpg\n",
      "GoogleImageScraper Notification: Saving Image... Please wait.\n",
      "0 .Image saved at: C:\\Users\\admin\\Desktop\\datastudy\\day30\\2021-K-Digital-Training-main\\Web_Crawling.\\images\\car0.jpg\n",
      "GoogleImageScraper Notification: Download Completed.\n",
      "GoogleImageScraper Notification: Scraping for image link... Please wait.\n",
      "GoogleImageScraper Notification: Saving Image... Please wait.\n",
      "GoogleImageScraper Notification: Download Completed.\n",
      "GoogleImageScraper Notification: Scraping for image link... Please wait.\n",
      "GoogleImageScraper Notification: Saving Image... Please wait.\n",
      "GoogleImageScraper Notification: Download Completed.\n"
     ]
    }
   ],
   "source": [
    "#image_path = os.getcwd()+\"\\\\photos\"\n",
    "#add new search key into array [\"cat\",\"t-shirt\",\"apple\",\"orange\",\"pear\",\"fish\"]\n",
    "#search_keys= [\"woodpecker\",\"owl\"]\n",
    "search_keys= [\"car\",\"bicycle\",\"chicken\"]\n",
    "number_of_images = 3  #각 항목마다 3가지씩 불러온다.총 9개 불러오는 것이다.\n",
    "headless = False  #창이 뜨지 않음\n",
    "#min_resolution = (width,height)\n",
    "min_resolution=(0,0)\n",
    "#max_resolution = (width,height)\n",
    "max_resolution=(2000,2000)\n",
    "for search_key in search_keys:\n",
    "    image_scrapper = GoogleImageScraper(webdriver_path,image_path,search_key,number_of_images,headless,min_resolution,max_resolution)\n",
    "    image_urls = image_scrapper.find_image_urls()\n",
    "    image_scrapper.save_images(image_urls)\n",
    "    time.sleep(sleep_between_interactions)"
   ]
  },
  {
   "cell_type": "code",
   "execution_count": null,
   "metadata": {},
   "outputs": [],
   "source": []
  }
 ],
 "metadata": {
  "kernelspec": {
   "display_name": "Python 3",
   "language": "python",
   "name": "python3"
  },
  "language_info": {
   "codemirror_mode": {
    "name": "ipython",
    "version": 3
   },
   "file_extension": ".py",
   "mimetype": "text/x-python",
   "name": "python",
   "nbconvert_exporter": "python",
   "pygments_lexer": "ipython3",
   "version": "3.8.8"
  }
 },
 "nbformat": 4,
 "nbformat_minor": 4
}
