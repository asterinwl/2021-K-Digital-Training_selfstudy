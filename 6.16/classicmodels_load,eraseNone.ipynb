{
 "cells": [
  {
   "cell_type": "code",
   "execution_count": 18,
   "id": "87d9d706-8638-4ab5-9b03-1905912c545c",
   "metadata": {},
   "outputs": [
    {
     "name": "stdout",
     "output_type": "stream",
     "text": [
      "C:\\Users\\admin\\Desktop\\데이터 공부 자료\\day20\\2021-K-Digital-Training-main\\SQL\n"
     ]
    }
   ],
   "source": [
    "!cd"
   ]
  },
  {
   "cell_type": "code",
   "execution_count": 19,
   "id": "a1970294-d54f-4542-96e1-ed1668ce907a",
   "metadata": {},
   "outputs": [],
   "source": [
    "import pymysql.cursors"
   ]
  },
  {
   "cell_type": "code",
   "execution_count": 20,
   "id": "c577004e-99ff-4c16-a2bf-5c1a50d10efe",
   "metadata": {},
   "outputs": [
    {
     "name": "stdout",
     "output_type": "stream",
     "text": [
      "{'customerNumber': 125, 'salesRepEmployeeNumber': None, 'checkNumber': None}\n"
     ]
    }
   ],
   "source": [
    "connection = pymysql.connect(host='localhost',\n",
    "        user='me',\n",
    "        password='9421',\n",
    "        db='classicmodels',\n",
    "        charset='utf8',\n",
    "        cursorclass=pymysql.cursors.DictCursor)\n",
    "sql=\"select customers.customerNumber, customers.salesRepEmployeeNumber, \\\n",
    "payments.checkNumber from customers left join \\\n",
    "payments on customers.customerNumber=payments.customerNumber; \"\n",
    "\n",
    "try:\n",
    "    with connection.cursor() as cursor:\n",
    "        # Read a single record\n",
    "        #sql = \"SELECT `id`, `password` FROM `users` WHERE `email`=%s\"\n",
    "        #sql = \"select count(total_bill) from tip.tips where tip >=7;\"\n",
    "        cursor.execute(sql)\n",
    "        result = cursor.fetchone()\n",
    "        print(result)\n",
    "finally:\n",
    "    connection.close()"
   ]
  },
  {
   "cell_type": "code",
   "execution_count": 21,
   "id": "b5c7560a-1b66-4b3c-ba65-2d62c7eefdd7",
   "metadata": {},
   "outputs": [],
   "source": [
    "import pandas as pd"
   ]
  },
  {
   "cell_type": "code",
   "execution_count": 22,
   "id": "6b6d23c2-4527-4211-978e-756f3b5778c7",
   "metadata": {},
   "outputs": [
    {
     "name": "stdout",
     "output_type": "stream",
     "text": [
      "     customerNumber  salesRepEmployeeNumber checkNumber\n",
      "0               125                     NaN        None\n",
      "1               169                     NaN        None\n",
      "2               206                     NaN        None\n",
      "3               223                     NaN        None\n",
      "4               237                     NaN        None\n",
      "..              ...                     ...         ...\n",
      "292             458                  1702.0    DD995006\n",
      "293             458                  1702.0    NA377824\n",
      "294             458                  1702.0    OO606861\n",
      "295             484                  1702.0    GK294076\n",
      "296             484                  1702.0    JH546765\n",
      "\n",
      "[297 rows x 3 columns]\n"
     ]
    }
   ],
   "source": [
    "conn = pymysql.connect(host='localhost', user='me', \n",
    "                       password='9421', db='classicmodels', charset='utf8',\n",
    "                       autocommit=True, cursorclass=pymysql.cursors.DictCursor)\n",
    "try:\n",
    "\n",
    "   with conn.cursor() as curs:\n",
    "      sql = \"select customers.customerNumber, customers.salesRepEmployeeNumber, payments.checkNumber from customers left join payments on customers.customerNumber=payments.customerNumber; \"\n",
    "      curs.execute(sql)\n",
    "      rs = curs.fetchall()\n",
    "\n",
    "      # DB에서 받아온 값을 DataFrame에 넣음\n",
    "\n",
    "      df = pd.DataFrame(rs)\n",
    "      print(df)\n",
    "    \n",
    "    #df.to_csv('query.csv')\n",
    "\n",
    "finally:\n",
    "\n",
    "   conn.close()"
   ]
  },
  {
   "cell_type": "code",
   "execution_count": 23,
   "id": "0a9f6548-4c42-42e6-8255-e993603852a2",
   "metadata": {},
   "outputs": [
    {
     "data": {
      "text/plain": [
       "customerNumber             0\n",
       "salesRepEmployeeNumber    22\n",
       "checkNumber               24\n",
       "dtype: int64"
      ]
     },
     "execution_count": 23,
     "metadata": {},
     "output_type": "execute_result"
    }
   ],
   "source": [
    "df.isnull().sum()"
   ]
  },
  {
   "cell_type": "code",
   "execution_count": 24,
   "id": "01011aeb-d17c-4710-ab39-be73ada08217",
   "metadata": {},
   "outputs": [],
   "source": [
    "data=df.values\n",
    "ix=[i for i in range(data.shape[1]) if i !=3]"
   ]
  },
  {
   "cell_type": "code",
   "execution_count": 25,
   "id": "73701424-0ba1-4848-9484-cf3f1d39d772",
   "metadata": {},
   "outputs": [],
   "source": [
    "#data"
   ]
  },
  {
   "cell_type": "code",
   "execution_count": 26,
   "id": "a52258c5-d960-4fbc-8f8e-ac3d48d347c9",
   "metadata": {},
   "outputs": [],
   "source": [
    "X=data[:,:1]"
   ]
  },
  {
   "cell_type": "code",
   "execution_count": 27,
   "id": "7acd3084-8901-4603-9b8c-35cac904eae1",
   "metadata": {},
   "outputs": [],
   "source": [
    "#X"
   ]
  },
  {
   "cell_type": "code",
   "execution_count": 28,
   "id": "dcd79f66-4c0e-4ceb-b704-f97ec2b1a73e",
   "metadata": {},
   "outputs": [],
   "source": [
    "from sklearn.impute import SimpleImputer"
   ]
  },
  {
   "cell_type": "code",
   "execution_count": 29,
   "id": "2dcfd7cc-40d1-49d3-99a6-ef0697cb57d3",
   "metadata": {},
   "outputs": [],
   "source": [
    "# define imputer\n",
    "# 평균,최빈값,중간값 등 빈값을 자신이 원하는 데로 넣을 수 있다.\n",
    "imputer = SimpleImputer(strategy='mean')\n",
    "\n",
    "# fit on the dataset\n",
    "imputer.fit(X)\n",
    "\n",
    "# transform the dataset\n",
    "Xtrans = imputer.transform(X)"
   ]
  },
  {
   "cell_type": "code",
   "execution_count": 30,
   "id": "e52aa502-4968-47ef-bc67-ec08f3ab95e4",
   "metadata": {},
   "outputs": [],
   "source": [
    "from numpy import isnan"
   ]
  },
  {
   "cell_type": "code",
   "execution_count": 31,
   "id": "a29f7175-1e92-4141-862b-b42ddf149761",
   "metadata": {},
   "outputs": [
    {
     "name": "stdout",
     "output_type": "stream",
     "text": [
      "Missing: 0\n"
     ]
    }
   ],
   "source": [
    "print('Missing: %d' % sum(isnan(Xtrans).flatten()))"
   ]
  },
  {
   "cell_type": "code",
   "execution_count": null,
   "id": "d3bbcb40-e569-4377-baa8-feacfac5820f",
   "metadata": {},
   "outputs": [],
   "source": []
  }
 ],
 "metadata": {
  "kernelspec": {
   "display_name": "Python Multi",
   "language": "python",
   "name": "multi"
  },
  "language_info": {
   "codemirror_mode": {
    "name": "ipython",
    "version": 3
   },
   "file_extension": ".py",
   "mimetype": "text/x-python",
   "name": "python",
   "nbconvert_exporter": "python",
   "pygments_lexer": "ipython3",
   "version": "3.7.6"
  }
 },
 "nbformat": 4,
 "nbformat_minor": 5
}
