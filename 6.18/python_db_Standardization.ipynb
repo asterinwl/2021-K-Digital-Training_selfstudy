{
 "cells": [
  {
   "cell_type": "code",
   "execution_count": 1,
   "id": "local-motel",
   "metadata": {},
   "outputs": [
    {
     "name": "stdout",
     "output_type": "stream",
     "text": [
      "C:\\Users\\admin\\Desktop\\데이터 공부 자료\\day20\\2021-K-Digital-Training-main\\SQL\n"
     ]
    }
   ],
   "source": [
    "!cd"
   ]
  },
  {
   "cell_type": "code",
   "execution_count": 2,
   "id": "romantic-period",
   "metadata": {},
   "outputs": [],
   "source": [
    "import pymysql.cursors\n",
    "# Connect to the database"
   ]
  },
  {
   "cell_type": "code",
   "execution_count": 3,
   "id": "rough-monte",
   "metadata": {},
   "outputs": [],
   "source": [
    "import pandas as pd"
   ]
  },
  {
   "cell_type": "code",
   "execution_count": 4,
   "id": "276d6289-9fdf-4bdf-95b1-aaa84ced935c",
   "metadata": {},
   "outputs": [],
   "source": [
    "import pandas_profiling"
   ]
  },
  {
   "cell_type": "code",
   "execution_count": 5,
   "id": "39320fe1-618b-4ea6-9b6e-172ae3d4e36d",
   "metadata": {},
   "outputs": [],
   "source": [
    "df = pd.read_csv('tips.csv')"
   ]
  },
  {
   "cell_type": "code",
   "execution_count": 6,
   "id": "df8f8e2a-5e16-427a-848d-ed04bab8393d",
   "metadata": {},
   "outputs": [],
   "source": [
    "df=df.assign(tip_rate=((df[\"tip\"] / df[\"total_bill\"])*100).round(2))"
   ]
  },
  {
   "cell_type": "code",
   "execution_count": 7,
   "id": "7ee0b69a-b20e-4755-b757-efa13d459987",
   "metadata": {},
   "outputs": [],
   "source": [
    "df['sex'].replace({'Female':0,'Male':1},inplace=True)"
   ]
  },
  {
   "cell_type": "code",
   "execution_count": 8,
   "id": "b5eda9a5-a397-479b-af99-f278ad1d3caa",
   "metadata": {},
   "outputs": [],
   "source": [
    "df['smoker'].replace({'No':0,'Yes':1},inplace=True)"
   ]
  },
  {
   "cell_type": "code",
   "execution_count": 9,
   "id": "fcc2aeba-0264-4b2d-ada7-310796baea38",
   "metadata": {},
   "outputs": [],
   "source": [
    "df[\"day\"].replace({\"Thur\" : 0, \"Fri\" : 1, \"Sat\" : 2, \"Sun\" : 3},inplace=True)"
   ]
  },
  {
   "cell_type": "code",
   "execution_count": 10,
   "id": "76d79ba7-a7ac-424e-b525-f84492006b3d",
   "metadata": {},
   "outputs": [],
   "source": [
    "df['time'].replace({'Lunch':0,'Dinner':1},inplace=True)"
   ]
  },
  {
   "cell_type": "code",
   "execution_count": null,
   "id": "3e18c91c-581e-48f1-808d-91adf40791bc",
   "metadata": {},
   "outputs": [
    {
     "data": {
      "text/plain": [
       "total_bill    0\n",
       "tip           0\n",
       "sex           0\n",
       "smoker        0\n",
       "day           0\n",
       "time          0\n",
       "size          0\n",
       "tip_rate      0\n",
       "dtype: int64"
      ]
     },
     "execution_count": 11,
     "metadata": {},
     "output_type": "execute_result"
    }
   ],
   "source": [
    "df.isnull().sum()         #data frame에서 nan 찾기"
   ]
  },
  {
   "cell_type": "code",
   "execution_count": null,
   "id": "b6a622a5-ddd3-4a7c-b4a6-9d684a7081cb",
   "metadata": {},
   "outputs": [],
   "source": [
    "df.describe()"
   ]
  },
  {
   "cell_type": "code",
   "execution_count": null,
   "id": "339c209c-efb0-4625-a96a-e98256490682",
   "metadata": {},
   "outputs": [],
   "source": [
    "type(df)"
   ]
  },
  {
   "cell_type": "code",
   "execution_count": null,
   "id": "afb753d1-c0b0-4a26-a327-f041ffaf9a6a",
   "metadata": {},
   "outputs": [],
   "source": [
    "import numpy as np\n",
    "from sklearn.impute import SimpleImputer"
   ]
  },
  {
   "cell_type": "code",
   "execution_count": null,
   "id": "40e333c8-e098-4b31-8223-768206129027",
   "metadata": {},
   "outputs": [],
   "source": [
    "data=df.values           #data frame -> array로 바꾸기"
   ]
  },
  {
   "cell_type": "code",
   "execution_count": null,
   "id": "6dc7820d-79ef-457a-9abc-7efab11fad77",
   "metadata": {},
   "outputs": [],
   "source": [
    "y=df['tip']    #구하고자 하는 값"
   ]
  },
  {
   "cell_type": "code",
   "execution_count": null,
   "id": "bace2ff0-7691-4762-a732-5c46171d3038",
   "metadata": {},
   "outputs": [],
   "source": [
    "X=df.drop('tip',axis=1) #구하고자 하는 값 제외한 것은 모두 넣고 비교"
   ]
  },
  {
   "cell_type": "code",
   "execution_count": null,
   "id": "78513b9b-12a8-45c2-a51e-844dc00d2405",
   "metadata": {},
   "outputs": [],
   "source": [
    "X.describe()"
   ]
  },
  {
   "cell_type": "code",
   "execution_count": null,
   "id": "80f2c1b5-61dd-415f-9ef7-2f967479f87b",
   "metadata": {},
   "outputs": [],
   "source": [
    "y.describe()"
   ]
  },
  {
   "cell_type": "code",
   "execution_count": null,
   "id": "adc08d04-c2b9-43a9-ba40-56e48681895d",
   "metadata": {},
   "outputs": [],
   "source": [
    "data=X.values"
   ]
  },
  {
   "cell_type": "code",
   "execution_count": null,
   "id": "44256b4f-1678-40f8-a087-fdd09c5adf0f",
   "metadata": {},
   "outputs": [],
   "source": [
    "y=y.values"
   ]
  },
  {
   "cell_type": "code",
   "execution_count": null,
   "id": "ddfadfeb-5a25-4d9f-8d90-17c524179373",
   "metadata": {},
   "outputs": [],
   "source": [
    "data"
   ]
  },
  {
   "cell_type": "code",
   "execution_count": null,
   "id": "c9d7e69f-d961-4e18-8097-c30f6586fbfa",
   "metadata": {},
   "outputs": [],
   "source": [
    "data.shape"
   ]
  },
  {
   "cell_type": "code",
   "execution_count": null,
   "id": "67a9fec5-ff26-404b-84eb-1e0a8126056d",
   "metadata": {},
   "outputs": [],
   "source": [
    "data[:,-1]"
   ]
  },
  {
   "cell_type": "code",
   "execution_count": null,
   "id": "4e8c41f2-3bf5-46a5-9661-1156ed6f221e",
   "metadata": {},
   "outputs": [],
   "source": [
    "sum(np.isnan(data).flatten())          #array에서 nan값 찾기"
   ]
  },
  {
   "cell_type": "code",
   "execution_count": null,
   "id": "a1af3e46-6205-4fa6-b775-35ca4aaeb7f3",
   "metadata": {},
   "outputs": [],
   "source": [
    "imputer = SimpleImputer(strategy='median')"
   ]
  },
  {
   "cell_type": "code",
   "execution_count": null,
   "id": "5ae2a4e2-d45f-4f4e-8dc1-79562225cbda",
   "metadata": {},
   "outputs": [],
   "source": [
    "imputer.fit(data)"
   ]
  },
  {
   "cell_type": "code",
   "execution_count": null,
   "id": "99cd957e-8488-4a03-bb38-e785fc746a89",
   "metadata": {},
   "outputs": [],
   "source": [
    "datatrans = imputer.transform(data)"
   ]
  },
  {
   "cell_type": "code",
   "execution_count": null,
   "id": "a37108c6-64f0-4a1f-998e-ab363ba12d34",
   "metadata": {},
   "outputs": [],
   "source": [
    "datatrans[:,-1]"
   ]
  },
  {
   "cell_type": "code",
   "execution_count": null,
   "id": "3619570f-0a4b-4194-89c3-e7523bf5f8a4",
   "metadata": {},
   "outputs": [],
   "source": [
    "df_trans=pd.DataFrame(datatrans)"
   ]
  },
  {
   "cell_type": "code",
   "execution_count": null,
   "id": "571e2c70-6ac7-4f4b-849b-1b2f7aa9d4ad",
   "metadata": {},
   "outputs": [],
   "source": [
    "df_trans.isnull()"
   ]
  },
  {
   "cell_type": "code",
   "execution_count": null,
   "id": "9a9601a0-d90c-4085-8c72-b41f4e39e148",
   "metadata": {},
   "outputs": [],
   "source": [
    "df_trans.isnull().sum()"
   ]
  },
  {
   "cell_type": "markdown",
   "id": "b15e83d8-1d45-474a-802a-e6750eaba8c2",
   "metadata": {},
   "source": [
    "# 시작"
   ]
  },
  {
   "cell_type": "markdown",
   "id": "a8993a1c-7bd7-4428-aca3-6885b70d21e3",
   "metadata": {},
   "source": [
    "### Scaling Standardization\n",
    "### RFE"
   ]
  },
  {
   "cell_type": "code",
   "execution_count": null,
   "id": "2f1ef938-0564-401c-9bcd-7fa5114b2a0a",
   "metadata": {},
   "outputs": [],
   "source": [
    "from sklearn.feature_selection import RFE\n",
    "#from sklearn.tree import DecisionTreeClassifier"
   ]
  },
  {
   "cell_type": "code",
   "execution_count": null,
   "id": "b6d1316a-2f43-42b0-b54a-8cffb8a62ece",
   "metadata": {},
   "outputs": [],
   "source": [
    "from sklearn.preprocessing import StandardScaler"
   ]
  },
  {
   "cell_type": "code",
   "execution_count": null,
   "id": "9def8bca-3005-4a83-a736-8768de3218bf",
   "metadata": {},
   "outputs": [],
   "source": [
    "sc = StandardScaler()"
   ]
  },
  {
   "cell_type": "code",
   "execution_count": null,
   "id": "c709b63c-4a5e-4818-8a75-a8ab682d4960",
   "metadata": {},
   "outputs": [],
   "source": [
    "data=df_trans.values"
   ]
  },
  {
   "cell_type": "markdown",
   "id": "53dccd7e-ad1c-4569-ac2e-e54236a57f9e",
   "metadata": {},
   "source": [
    "###### df_trans는 tip의 값을 뺀 값"
   ]
  },
  {
   "cell_type": "code",
   "execution_count": null,
   "id": "47d277c6-ee63-437c-a333-f06a3cda1415",
   "metadata": {},
   "outputs": [],
   "source": [
    "data_sc=sc.fit_transform(data)"
   ]
  },
  {
   "cell_type": "code",
   "execution_count": null,
   "id": "ad24e2aa-61e4-40d3-b592-241b8fd2d89e",
   "metadata": {},
   "outputs": [],
   "source": [
    "data_sc"
   ]
  },
  {
   "cell_type": "code",
   "execution_count": null,
   "id": "9c35e170-05b6-455d-9837-8daf19382c3a",
   "metadata": {},
   "outputs": [],
   "source": [
    "df_sc=pd.DataFrame(data_sc,columns=['total_bill','sex','smoker','day','time','size','tip_rate'])"
   ]
  },
  {
   "cell_type": "code",
   "execution_count": null,
   "id": "5cdebc08-8fc4-4b00-aed0-c8d5a83e6f5f",
   "metadata": {},
   "outputs": [],
   "source": [
    "from sklearn.svm import SVR"
   ]
  },
  {
   "cell_type": "code",
   "execution_count": null,
   "id": "b3986af1-2b2f-413a-a4bc-c2478b83c456",
   "metadata": {},
   "outputs": [],
   "source": [
    "estimator=SVR(kernel=\"linear\")"
   ]
  },
  {
   "cell_type": "code",
   "execution_count": null,
   "id": "cd067035-3794-4501-82c6-f4df5d3eae7b",
   "metadata": {},
   "outputs": [],
   "source": [
    "# define RFE\n",
    "rfe = RFE(estimator, n_features_to_select=4) #변수 7개 중 4개 가지기"
   ]
  },
  {
   "cell_type": "code",
   "execution_count": null,
   "id": "52e417dd-8a0c-45b7-a492-5b9cb1b800e9",
   "metadata": {},
   "outputs": [],
   "source": [
    "y.shape"
   ]
  },
  {
   "cell_type": "code",
   "execution_count": null,
   "id": "9502c410-74a1-43e5-b382-882637e5f60a",
   "metadata": {},
   "outputs": [],
   "source": [
    "# fit RFE\n",
    "selecto=rfe.fit(data_sc, y)"
   ]
  },
  {
   "cell_type": "code",
   "execution_count": null,
   "id": "6e3a5dce-f3f1-45f9-9e45-c0c53bc68d3b",
   "metadata": {},
   "outputs": [],
   "source": [
    "selecto.support_"
   ]
  },
  {
   "cell_type": "code",
   "execution_count": null,
   "id": "9ecee7fb-7bbe-4b27-8f60-f4fd5cbe1967",
   "metadata": {},
   "outputs": [],
   "source": [
    "df_sc.head(3)   #1,2,3이 False 즉, sex와 smoker,day가 빠졌다."
   ]
  },
  {
   "cell_type": "code",
   "execution_count": null,
   "id": "4ca7d099-cc8e-4192-9dc4-275da0a34eb0",
   "metadata": {},
   "outputs": [],
   "source": [
    ",# summarize all features\n",
    "for i in range(df_sc.shape[1]):\n",
    "  print('Column: %d, Selected=%s, Rank: %d' % (i, rfe.support_[i], rfe.ranking_[i]))"
   ]
  },
  {
   "cell_type": "code",
   "execution_count": null,
   "id": "c0abe297-0c08-4cdf-a215-1c1a0e5f42fb",
   "metadata": {},
   "outputs": [],
   "source": [
    "rselecto= rfe.fit_transform(data_sc, y)"
   ]
  },
  {
   "cell_type": "code",
   "execution_count": null,
   "id": "f47c5e57-495e-4864-a401-b1907759934b",
   "metadata": {},
   "outputs": [],
   "source": [
    "Selecto=pd.DataFrame(rselecto)"
   ]
  },
  {
   "cell_type": "code",
   "execution_count": null,
   "id": "8a5d6588-2f3a-453d-be25-b03947cc250b",
   "metadata": {},
   "outputs": [],
   "source": [
    "Selecto.columns=['total_bill', 'time', 'size', 'tip_rate']"
   ]
  },
  {
   "cell_type": "code",
   "execution_count": null,
   "id": "585806d3-271e-4f37-b03f-dcf3c5fa1018",
   "metadata": {},
   "outputs": [],
   "source": [
    "Selecto.describe()"
   ]
  },
  {
   "cell_type": "code",
   "execution_count": null,
   "id": "94e441e5-2a48-4be1-b042-50ab4adf9b56",
   "metadata": {},
   "outputs": [],
   "source": [
    "X.describe()"
   ]
  },
  {
   "cell_type": "markdown",
   "id": "3cd722a3-0de1-498f-8d09-b270c5471608",
   "metadata": {},
   "source": [
    "###### Selecto.describe().round()을 Standard 하지 않은 X.describe()와 비교해보자."
   ]
  },
  {
   "cell_type": "code",
   "execution_count": null,
   "id": "e93e1bfe-855d-41be-9725-8486ecd2a5c8",
   "metadata": {},
   "outputs": [],
   "source": [
    "Selecto.profile_report()"
   ]
  },
  {
   "cell_type": "markdown",
   "id": "fb090a07-8d4f-465a-96c5-eee13dc98453",
   "metadata": {},
   "source": [
    "#### HW_with 의 RFE와 비교해보자. \n",
    "#### Standard 과정을 거치지 않은 python_db_Org의 RFE는 1,3,4이 False 즉 sex, day,time가 빠졌다. \n",
    "#### Standard 과정을 거친 python_db_Standardization은 1,2,3이 False 즉, sex와 smoker,day가 빠졌다.\n",
    "#### 참고로 Standard->RFE가 더 바람직하다."
   ]
  },
  {
   "cell_type": "markdown",
   "id": "5d777702-04b1-4d72-a7c3-1da17ddf08e0",
   "metadata": {},
   "source": [
    "## "
   ]
  },
  {
   "cell_type": "markdown",
   "id": "c8eba7ca-8914-4c6f-9f46-68a50daf5db3",
   "metadata": {},
   "source": [
    "### Scaling Normalization\n",
    "### RFE"
   ]
  },
  {
   "cell_type": "code",
   "execution_count": null,
   "id": "26115267-0aba-4fa2-9de4-f417655386a9",
   "metadata": {},
   "outputs": [],
   "source": [
    "from sklearn.preprocessing import MinMaxScaler"
   ]
  },
  {
   "cell_type": "code",
   "execution_count": null,
   "id": "0fb9d4d2-e714-408a-b4ed-f68da17a273e",
   "metadata": {},
   "outputs": [],
   "source": [
    "# define the scaler\n",
    "trans = MinMaxScaler()"
   ]
  },
  {
   "cell_type": "code",
   "execution_count": null,
   "id": "3865c491-aa7a-455c-9804-d64ee26fd288",
   "metadata": {},
   "outputs": [],
   "source": [
    "# transform the data\n",
    "data_norm = trans.fit_transform(data)"
   ]
  },
  {
   "cell_type": "code",
   "execution_count": null,
   "id": "7c32208f-89d1-44ba-8d52-bc7697ab55c0",
   "metadata": {},
   "outputs": [],
   "source": [
    "df_norm=pd.DataFrame(data_norm,columns=['total_bill','sex','smoker','day','time','size','tip_rate'])"
   ]
  },
  {
   "cell_type": "code",
   "execution_count": null,
   "id": "bfcb5492-f78d-4f6e-a6cb-056fc1385758",
   "metadata": {},
   "outputs": [],
   "source": [
    "df_norm.describe()"
   ]
  },
  {
   "cell_type": "code",
   "execution_count": null,
   "id": "f9a66c13-ee6f-47f9-93a7-5ccb810df5a9",
   "metadata": {},
   "outputs": [],
   "source": [
    "X.describe()"
   ]
  },
  {
   "cell_type": "markdown",
   "id": "ff9e3031-802b-4761-95f4-b1b0c9a2698f",
   "metadata": {},
   "source": [
    "###### 기존의 데이터인 X와 비교를 해보자."
   ]
  },
  {
   "cell_type": "code",
   "execution_count": null,
   "id": "235d291d-6b6d-4025-9268-7902c26ae778",
   "metadata": {},
   "outputs": [],
   "source": [
    "estimator=SVR(kernel=\"linear\")"
   ]
  },
  {
   "cell_type": "code",
   "execution_count": null,
   "id": "4ebf1ba6-a73b-47bc-b29d-6c7264729c18",
   "metadata": {},
   "outputs": [],
   "source": [
    "# define RFE\n",
    "rfe = RFE(estimator, n_features_to_select=4) #변수 7개 중 4개 가지기"
   ]
  },
  {
   "cell_type": "code",
   "execution_count": null,
   "id": "b6a224bb-c8c9-4862-a0a7-f73b44787557",
   "metadata": {},
   "outputs": [],
   "source": [
    "# fit RFE\n",
    "selecto=rfe.fit(data_norm, y)"
   ]
  },
  {
   "cell_type": "code",
   "execution_count": null,
   "id": "b72ca892-734c-4020-9edd-fac2c27d035b",
   "metadata": {},
   "outputs": [],
   "source": [
    "selecto.support_"
   ]
  },
  {
   "cell_type": "code",
   "execution_count": null,
   "id": "65caa65c-0a5b-49d0-8779-3fbaa4c47bc0",
   "metadata": {},
   "outputs": [],
   "source": [
    "df_norm.head(3)"
   ]
  },
  {
   "cell_type": "code",
   "execution_count": null,
   "id": "a176280f-788e-4cca-806f-f00247180b57",
   "metadata": {},
   "outputs": [],
   "source": [
    ",# summarize all features\n",
    "for i in range(df_norm.shape[1]):\n",
    "  print('Column: %d, Selected=%s, Rank: %d' % (i, rfe.support_[i], rfe.ranking_[i]))"
   ]
  },
  {
   "cell_type": "code",
   "execution_count": null,
   "id": "b0b6f1c7-db2f-4d7c-bf15-b00dcc0b0bdf",
   "metadata": {},
   "outputs": [],
   "source": [
    "nselecto= rfe.fit_transform(data_norm, y)"
   ]
  },
  {
   "cell_type": "code",
   "execution_count": null,
   "id": "23496bf3-19d0-463c-9674-72ddec96b20b",
   "metadata": {},
   "outputs": [],
   "source": [
    "Nselecto=pd.DataFrame(nselecto)"
   ]
  },
  {
   "cell_type": "code",
   "execution_count": null,
   "id": "902ef3ff-f05a-45bd-8d42-bd3485e39b38",
   "metadata": {},
   "outputs": [],
   "source": [
    "Nselecto.columns=['total_bill', 'smoker', 'size', 'tip_rate']"
   ]
  },
  {
   "cell_type": "code",
   "execution_count": null,
   "id": "bcfbbb11-05d9-4e72-ae0f-fc794aff750b",
   "metadata": {},
   "outputs": [],
   "source": [
    "Nselecto.describe()"
   ]
  },
  {
   "cell_type": "code",
   "execution_count": null,
   "id": "7d47d096-9462-4552-82ba-b99856d2c95f",
   "metadata": {},
   "outputs": [],
   "source": [
    "X.describe()"
   ]
  },
  {
   "cell_type": "code",
   "execution_count": null,
   "id": "23538373-9d92-4b71-b909-3872701a5dd6",
   "metadata": {},
   "outputs": [],
   "source": [
    "Nselecto.profile_report()"
   ]
  },
  {
   "cell_type": "markdown",
   "id": "c7c15834-9e9e-4dff-8a69-af5413108584",
   "metadata": {},
   "source": [
    "#### HW_with 의 RFE,  Standard 과정과 비교하자.\n",
    "#### Standard 과정을 거치지 않은 python_db_Org의 RFE는 1,3,4이 False 즉 sex, day,time가 빠졌다. \n",
    "#### Standard 과정을 거친 python_db_Standardization은 1,2,3이 False 즉, sex와 smoker,day가 빠졌다.\n",
    "#### Norm 과정을 거친 python_db_Standardization은 1,3,4이 False 즉 sex, day,time가 빠졌다.\n",
    "#### 참고로 Standard->RFE 혹은 Norm->RFE가 더 바람직하다. \n",
    "#### 파생변수인 tip_rate는 세 과정 중 빠지는 경우가 없으므로 매우 잘 설정한 변수이다."
   ]
  },
  {
   "cell_type": "markdown",
   "id": "8db58a55-7b06-4a23-8544-30e1140a508a",
   "metadata": {},
   "source": [
    "# MinMaxScaler"
   ]
  },
  {
   "cell_type": "code",
   "execution_count": null,
   "id": "70424e13-5ff1-4aab-b244-a32cd45072c7",
   "metadata": {},
   "outputs": [],
   "source": [
    "from sklearn.preprocessing import MinMaxScaler"
   ]
  },
  {
   "cell_type": "code",
   "execution_count": null,
   "id": "3d644d18-1db3-448c-9ad8-dde932ae8001",
   "metadata": {},
   "outputs": [],
   "source": [
    "trans = MinMaxScaler()"
   ]
  },
  {
   "cell_type": "code",
   "execution_count": null,
   "id": "b2bd438b-4a89-4b1f-ad72-94b8eb8213d9",
   "metadata": {},
   "outputs": [],
   "source": [
    "data.shape"
   ]
  },
  {
   "cell_type": "code",
   "execution_count": null,
   "id": "e3b1c65b-48d3-4849-88b3-05948a2f44a3",
   "metadata": {},
   "outputs": [],
   "source": [
    "X_norm = trans.fit_transform(data)"
   ]
  },
  {
   "cell_type": "code",
   "execution_count": null,
   "id": "bcd6dc6a-fda1-42fe-b9d3-fc8ace1eb9f6",
   "metadata": {},
   "outputs": [],
   "source": [
    "df_norm=pd.DataFrame(X_norm)"
   ]
  },
  {
   "cell_type": "code",
   "execution_count": null,
   "id": "e7947137-1f6b-4e5c-9856-ce45ec7eead1",
   "metadata": {},
   "outputs": [],
   "source": [
    "df_norm.describe().round()"
   ]
  },
  {
   "cell_type": "markdown",
   "id": "7b8d0f61-7613-43ec-a5c8-b53511c8c7d2",
   "metadata": {},
   "source": [
    "# Data Standardization"
   ]
  },
  {
   "cell_type": "code",
   "execution_count": null,
   "id": "b7014b9c-7f57-4a77-a872-595b420550f4",
   "metadata": {},
   "outputs": [],
   "source": [
    "from sklearn.preprocessing import StandardScaler"
   ]
  },
  {
   "cell_type": "code",
   "execution_count": null,
   "id": "5aa8355a-6e46-413b-9c5b-5e0d6db9adaf",
   "metadata": {},
   "outputs": [],
   "source": [
    "sc = StandardScaler()"
   ]
  },
  {
   "cell_type": "code",
   "execution_count": null,
   "id": "64e31286-5a88-4b72-8e3e-551ff0663ffd",
   "metadata": {},
   "outputs": [],
   "source": [
    "df_sc=sc.fit_transform(data)"
   ]
  },
  {
   "cell_type": "code",
   "execution_count": null,
   "id": "0eba2d71-3d38-440c-adc0-1853d203b78b",
   "metadata": {},
   "outputs": [],
   "source": [
    "df_trsfrom_sc=pd.DataFrame(df_sc)"
   ]
  },
  {
   "cell_type": "code",
   "execution_count": null,
   "id": "cae6c241-0e7c-405d-8374-734b085612e0",
   "metadata": {},
   "outputs": [],
   "source": [
    "df_trsfrom_sc.describe().round() #정규화가 끝나서 평균0, 분산1"
   ]
  },
  {
   "cell_type": "markdown",
   "id": "b2758c68-c75b-47b5-ab32-0fea14b20991",
   "metadata": {},
   "source": [
    "# PCA"
   ]
  },
  {
   "cell_type": "code",
   "execution_count": null,
   "id": "63fbf03d-02ff-4fd6-a733-43d5bc981406",
   "metadata": {},
   "outputs": [],
   "source": [
    "from sklearn.decomposition import PCA"
   ]
  },
  {
   "cell_type": "code",
   "execution_count": null,
   "id": "66bec815-353e-44bb-bf69-59fde13bca73",
   "metadata": {},
   "outputs": [],
   "source": [
    "# define the transform\n",
    "trans = PCA(n_components=4)"
   ]
  },
  {
   "cell_type": "code",
   "execution_count": null,
   "id": "7c83d624-eaf0-49b7-a2ef-431f505361cd",
   "metadata": {},
   "outputs": [],
   "source": [
    "# transform the data\n",
    "X_dim = trans.fit_transform(datatrans)"
   ]
  },
  {
   "cell_type": "code",
   "execution_count": null,
   "id": "4d210c33-2526-45f6-b203-9875d19c854c",
   "metadata": {},
   "outputs": [],
   "source": [
    "# summarize data after the transform\n",
    "print(X_dim[:3, :]) #X_dim은 array라서 describe(),info() 불가"
   ]
  },
  {
   "cell_type": "code",
   "execution_count": null,
   "id": "fcee2768-a42d-489f-ad60-d42ab3634337",
   "metadata": {},
   "outputs": [],
   "source": [
    "x_dim=pd.DataFrame(X_dim)"
   ]
  },
  {
   "cell_type": "code",
   "execution_count": null,
   "id": "bf75127c-17de-4287-a993-ad29f74105ec",
   "metadata": {},
   "outputs": [],
   "source": [
    "x_dim.describe().round()"
   ]
  },
  {
   "cell_type": "markdown",
   "id": "36aee31e-70c2-495c-a8be-3c14bc02d021",
   "metadata": {},
   "source": [
    "# Regression Feature Selection"
   ]
  },
  {
   "cell_type": "code",
   "execution_count": null,
   "id": "6639da35-b4bc-492a-8bf2-8c91f9f6d801",
   "metadata": {},
   "outputs": [],
   "source": [
    "from sklearn.feature_selection import SelectKBest\n",
    "from sklearn.feature_selection import f_regression"
   ]
  },
  {
   "cell_type": "code",
   "execution_count": null,
   "id": "742f7cd2-db28-40e5-ac9f-f1428a14df5e",
   "metadata": {},
   "outputs": [],
   "source": [
    "# define feature selection\n",
    "fs = SelectKBest(score_func=f_regression, k=4)"
   ]
  },
  {
   "cell_type": "code",
   "execution_count": null,
   "id": "cd650f6d-6ae1-4862-b38b-20769f3ad778",
   "metadata": {},
   "outputs": [],
   "source": [
    "datatrans.shape"
   ]
  },
  {
   "cell_type": "code",
   "execution_count": null,
   "id": "68401af9-50af-42c3-ab40-a4fd6398f50a",
   "metadata": {},
   "outputs": [],
   "source": [
    "y.shape"
   ]
  },
  {
   "cell_type": "code",
   "execution_count": null,
   "id": "7738841d-6132-42a0-b871-8f0114923f17",
   "metadata": {},
   "outputs": [],
   "source": [
    "# apply feature selection / 행이 같으므로 값이 나온다.\n",
    "X_selected = fs.fit_transform(datatrans, y)\n",
    "print(X_selected.shape)"
   ]
  },
  {
   "cell_type": "markdown",
   "id": "a9b1c05c-1a1b-4e09-ba25-fdd8da4c5cfa",
   "metadata": {},
   "source": [
    "#### rfe는 독립변수들과 목표변수와의 관계를 통해 차원을 축소시키고\n",
    "#### pca는 독립변수들끼리의 상관관계만으로만 차원을 축소시킨다."
   ]
  },
  {
   "cell_type": "code",
   "execution_count": null,
   "id": "456478c8-cb8c-4f19-8449-55b8a32597be",
   "metadata": {},
   "outputs": [],
   "source": []
  },
  {
   "cell_type": "code",
   "execution_count": null,
   "id": "a5168916-731a-40fd-b560-82ac3d2718e2",
   "metadata": {},
   "outputs": [],
   "source": []
  },
  {
   "cell_type": "code",
   "execution_count": null,
   "id": "a4d873da-2f67-4d6e-8579-ec924dfc2502",
   "metadata": {},
   "outputs": [],
   "source": [
    "#예전에 공부했던 내용들"
   ]
  },
  {
   "cell_type": "code",
   "execution_count": null,
   "id": "1c10d5e0-4b21-43cb-b6eb-fe4c8b9a49d0",
   "metadata": {},
   "outputs": [],
   "source": [
    "df.total_bill"
   ]
  },
  {
   "cell_type": "code",
   "execution_count": null,
   "id": "8e4f60a9-7067-4623-9720-1ba947f80bf5",
   "metadata": {},
   "outputs": [],
   "source": [
    "df['total_bill']"
   ]
  },
  {
   "cell_type": "code",
   "execution_count": null,
   "id": "60b540b0-f5d9-4343-8f07-b53f4e32f3e5",
   "metadata": {},
   "outputs": [],
   "source": [
    "df['total_bill'].hist()"
   ]
  },
  {
   "cell_type": "code",
   "execution_count": null,
   "id": "583fcd40-5bbf-4591-b660-6a605eb83790",
   "metadata": {},
   "outputs": [],
   "source": [
    "#새출발"
   ]
  },
  {
   "cell_type": "code",
   "execution_count": null,
   "id": "a106c2d3-a13a-4c55-a07b-71628bd289c7",
   "metadata": {},
   "outputs": [],
   "source": [
    "import pymysql.cursors\n",
    "import pandas as pd"
   ]
  },
  {
   "cell_type": "code",
   "execution_count": null,
   "id": "70601cce-ec01-4da0-91ad-bd45f0643af2",
   "metadata": {},
   "outputs": [],
   "source": [
    "sql=\"select customers.customerName, payments.checkNumber from customers left join payments on customers.customerNumber=payments.customerNumber where payments.paymentDate >= '2004-10-06';\""
   ]
  },
  {
   "cell_type": "code",
   "execution_count": null,
   "id": "e0abf416-98b3-4d5e-807d-56ef74109c49",
   "metadata": {},
   "outputs": [],
   "source": [
    "conn = pymysql.connect(host='localhost', user='me', \n",
    "                       password='9421', db='classicmodels', charset='utf8',\n",
    "                       autocommit=True, cursorclass=pymysql.cursors.DictCursor)\n",
    "try:\n",
    "\n",
    "   with conn.cursor() as curs:\n",
    "      curs.execute(sql)\n",
    "      rs = curs.fetchall()\n",
    "\n",
    "      # DB에서 받아온 값을 DataFrame에 넣음\n",
    "\n",
    "      df = pd.DataFrame(rs)\n",
    "      print(df)\n",
    "    \n",
    "    #df.to_csv('query.csv')\n",
    "\n",
    "finally:\n",
    "\n",
    "   conn.close()"
   ]
  },
  {
   "cell_type": "code",
   "execution_count": null,
   "id": "077d5ff9-e7be-44b3-9481-09467d36d063",
   "metadata": {},
   "outputs": [],
   "source": [
    "df.to_csv('query_car.csv')"
   ]
  }
 ],
 "metadata": {
  "kernelspec": {
   "display_name": "Python Multi",
   "language": "python",
   "name": "multi"
  },
  "language_info": {
   "codemirror_mode": {
    "name": "ipython",
    "version": 3
   },
   "file_extension": ".py",
   "mimetype": "text/x-python",
   "name": "python",
   "nbconvert_exporter": "python",
   "pygments_lexer": "ipython3",
   "version": "3.7.6"
  }
 },
 "nbformat": 4,
 "nbformat_minor": 5
}
