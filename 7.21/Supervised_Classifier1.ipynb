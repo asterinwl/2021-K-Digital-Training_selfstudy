{
 "cells": [
  {
   "cell_type": "code",
   "execution_count": 1,
   "id": "400b84a8-fffb-499f-8bb6-5b952391f704",
   "metadata": {},
   "outputs": [],
   "source": [
    "bream_length = [25.4, 26.3, 26.5, 29.0, 29.0, 29.7, 29.7, 30.0, 30.0, 30.7,\n",
    "                31.0, 31.0, 31.5, 32.0, 32.0, 32.0, 33.0, 33.0, 33.5, 33.5,\n",
    "                34.0, 34.0, 34.5, 35.0, 35.0, 35.0, 35.0, 36.0, 36.0, 37.0,\n",
    "                38.5, 38.5, 39.5, 41.0, 41.0]\n",
    "bream_weight = [242.0, 290.0, 340.0, 363.0, 430.0, 450.0, 500.0, 390.0, 450.0,\n",
    "                500.0, 475.0, 500.0, 500.0, 340.0, 600.0, 600.0, 700.0, 700.0,\n",
    "                610.0, 650.0, 575.0, 685.0, 620.0, 680.0, 700.0, 725.0, 720.0,\n",
    "                714.0, 850.0, 1000.0, 920.0, 955.0, 925.0, 975.0, 950.0]\n"
   ]
  },
  {
   "cell_type": "code",
   "execution_count": 2,
   "id": "f3bedad2-ba71-4fc7-8715-7442d7a0c1eb",
   "metadata": {},
   "outputs": [
    {
     "data": {
      "image/png": "[encoded data removed]",
      "text/plain": [
       "<Figure size 432x288 with 1 Axes>"
      ]
     },
     "metadata": {
      "needs_background": "light"
     },
     "output_type": "display_data"
    }
   ],
   "source": [
    "import matplotlib.pyplot as plt\n",
    "\n",
    "plt.scatter(bream_length,bream_weight)\n",
    "plt.xlabel('length')\n",
    "plt.ylabel('weight')\n",
    "plt.show()"
   ]
  },
  {
   "cell_type": "code",
   "execution_count": 3,
   "id": "f4f52369-98ae-4fec-9ef2-8ae78232d8c9",
   "metadata": {},
   "outputs": [],
   "source": [
    "smelt_length = [9.8, 10.5, 10.6, 11.0, 11.2, 11.3, 11.8, 11.8, 12.0, 12.2,\n",
    "                12.4, 13.0, 14.3, 15.0]\n",
    "smelt_weight = [6.7, 7.5, 7.0, 9.7, 9.8, 8.7, 10.0, 9.9, 9.8, 12.2,\n",
    "                13.4, 12.2, 19.7, 19.9]"
   ]
  },
  {
   "cell_type": "code",
   "execution_count": 4,
   "id": "3eb6c24b-093b-42d6-bce1-0636de6eb937",
   "metadata": {},
   "outputs": [
    {
     "data": {
      "image/png": "[encoded data removed]",
      "text/plain": [
       "<Figure size 432x288 with 1 Axes>"
      ]
     },
     "metadata": {
      "needs_background": "light"
     },
     "output_type": "display_data"
    }
   ],
   "source": [
    "plt.scatter(smelt_length,smelt_weight)\n",
    "plt.xlabel('length')\n",
    "plt.ylabel('weight')\n",
    "plt.show()"
   ]
  },
  {
   "cell_type": "code",
   "execution_count": 5,
   "id": "3274a0d4-7ccf-4d12-bbf0-301271f4d021",
   "metadata": {},
   "outputs": [
    {
     "data": {
      "image/png": "[encoded data removed]",
      "text/plain": [
       "<Figure size 432x288 with 1 Axes>"
      ]
     },
     "metadata": {
      "needs_background": "light"
     },
     "output_type": "display_data"
    }
   ],
   "source": [
    "plt.scatter(bream_length,bream_weight)\n",
    "plt.scatter(smelt_length,smelt_weight)\n",
    "plt.xlabel('length')\n",
    "plt.ylabel('weight')\n",
    "plt.show()"
   ]
  },
  {
   "cell_type": "code",
   "execution_count": 6,
   "id": "20fe8286-8ff3-4569-a807-8987dfca6e91",
   "metadata": {},
   "outputs": [],
   "source": [
    "length=bream_length+smelt_length\n",
    "weight=bream_weight+smelt_weight"
   ]
  },
  {
   "cell_type": "code",
   "execution_count": 7,
   "id": "aab032c1-7eca-4e19-b164-2453132da7ba",
   "metadata": {},
   "outputs": [
    {
     "name": "stdout",
     "output_type": "stream",
     "text": [
      "[[25.4, 242.0], [26.3, 290.0], [26.5, 340.0], [29.0, 363.0], [29.0, 430.0], [29.7, 450.0], [29.7, 500.0], [30.0, 390.0], [30.0, 450.0], [30.7, 500.0], [31.0, 475.0], [31.0, 500.0], [31.5, 500.0], [32.0, 340.0], [32.0, 600.0], [32.0, 600.0], [33.0, 700.0], [33.0, 700.0], [33.5, 610.0], [33.5, 650.0], [34.0, 575.0], [34.0, 685.0], [34.5, 620.0], [35.0, 680.0], [35.0, 700.0], [35.0, 725.0], [35.0, 720.0], [36.0, 714.0], [36.0, 850.0], [37.0, 1000.0], [38.5, 920.0], [38.5, 955.0], [39.5, 925.0], [41.0, 975.0], [41.0, 950.0], [9.8, 6.7], [10.5, 7.5], [10.6, 7.0], [11.0, 9.7], [11.2, 9.8], [11.3, 8.7], [11.8, 10.0], [11.8, 9.9], [12.0, 9.8], [12.2, 12.2], [12.4, 13.4], [13.0, 12.2], [14.3, 19.7], [15.0, 19.9]]\n"
     ]
    }
   ],
   "source": [
    "fish_data=[[l,w] for l, w in zip(length,weight)]   #2차원의 리스트 데이터로 만들어 보자\n",
    "print(fish_data)"
   ]
  },
  {
   "cell_type": "code",
   "execution_count": 8,
   "id": "212b63b7-1843-4a22-a17e-b2ee599fdb18",
   "metadata": {},
   "outputs": [
    {
     "name": "stdout",
     "output_type": "stream",
     "text": [
      "[1, 1, 1, 1, 1, 1, 1, 1, 1, 1, 1, 1, 1, 1, 1, 1, 1, 1, 1, 1, 1, 1, 1, 1, 1, 1, 1, 1, 1, 1, 1, 1, 1, 1, 1, 0, 0, 0, 0, 0, 0, 0, 0, 0, 0, 0, 0, 0, 0]\n"
     ]
    }
   ],
   "source": [
    "fish_target=[1]*35+[0]*14     #2차원의 리스트 데이터로 만들어 보자 \n",
    "print(fish_target)            #bream데이터가 35개.그리고 이것을 1로 넣음.\n",
    "                              #smelt데이터가 14개.그리고 이것을 0으로 넣음."
   ]
  },
  {
   "cell_type": "markdown",
   "id": "b72b8ec5-b944-4094-b815-6248a8eb23bf",
   "metadata": {},
   "source": [
    "# 지도(Supervised) 학습-범주형인 분류 문제"
   ]
  },
  {
   "cell_type": "code",
   "execution_count": 9,
   "id": "a3e68015-377d-44d7-91fb-6b18255bdbd1",
   "metadata": {},
   "outputs": [],
   "source": [
    "from sklearn.neighbors import KNeighborsClassifier"
   ]
  },
  {
   "cell_type": "code",
   "execution_count": 10,
   "id": "ec0efa6a-dfdb-4b9d-b247-0ffe9db9a055",
   "metadata": {},
   "outputs": [],
   "source": [
    "kn=KNeighborsClassifier()"
   ]
  },
  {
   "cell_type": "code",
   "execution_count": 11,
   "id": "417ec257-e0ea-4130-ad18-2ccc33d7be02",
   "metadata": {},
   "outputs": [
    {
     "data": {
      "text/plain": [
       "KNeighborsClassifier()"
      ]
     },
     "execution_count": 11,
     "metadata": {},
     "output_type": "execute_result"
    }
   ],
   "source": [
    "kn.fit(fish_data,fish_target)"
   ]
  },
  {
   "cell_type": "markdown",
   "id": "808364d1-7646-4136-8f00-233609ae2151",
   "metadata": {},
   "source": [
    "#### 모델평가 : score()매서드->정확도"
   ]
  },
  {
   "cell_type": "code",
   "execution_count": 12,
   "id": "0cca903e-24d1-49ac-9f28-d273f953a139",
   "metadata": {},
   "outputs": [
    {
     "data": {
      "text/plain": [
       "1.0"
      ]
     },
     "execution_count": 12,
     "metadata": {},
     "output_type": "execute_result"
    }
   ],
   "source": [
    "kn.score(fish_data,fish_target)"
   ]
  },
  {
   "cell_type": "markdown",
   "id": "4f0308c5-793d-4a2e-a8fa-a59fd9eca091",
   "metadata": {},
   "source": [
    "###### 정확도\n",
    "###### 정확한 답을 맞췄는지 알아내는 척도\n",
    "###### 정확히 맞힌 개수/전체 데이터 개수"
   ]
  },
  {
   "cell_type": "code",
   "execution_count": 13,
   "id": "28678150-1098-4e8f-9942-4a9407e647f1",
   "metadata": {},
   "outputs": [
    {
     "data": {
      "image/png": "[encoded data removed]",
      "text/plain": [
       "<Figure size 432x288 with 1 Axes>"
      ]
     },
     "metadata": {
      "needs_background": "light"
     },
     "output_type": "display_data"
    }
   ],
   "source": [
    "plt.scatter(bream_length,bream_weight)\n",
    "plt.scatter(smelt_length,smelt_weight)\n",
    "plt.scatter(30,600,marker='^')      #length=30,weight=600인것을 찍어라.\n",
    "plt.xlabel('length')\n",
    "plt.ylabel('weight')\n",
    "plt.show()"
   ]
  },
  {
   "cell_type": "code",
   "execution_count": 14,
   "id": "219961c9-692f-4414-8bbd-f04e04da10c2",
   "metadata": {},
   "outputs": [
    {
     "data": {
      "text/plain": [
       "array([1, 1, 0])"
      ]
     },
     "execution_count": 14,
     "metadata": {},
     "output_type": "execute_result"
    }
   ],
   "source": [
    "kn.predict([[30,600],[50,550],[5,20]])  #predict는 항상 2차원으로 주어야 한다. \n",
    "                                        #lenght가 30 weight가 600인 것은 1에 해당된다. 1은 bream\n",
    "                                        #length가 5  weight가 20인 것은 0에 해당된다. 0은 smelt"
   ]
  },
  {
   "cell_type": "code",
   "execution_count": 15,
   "id": "6c595fe2-8f2e-47da-b876-07d65fc2b4e7",
   "metadata": {},
   "outputs": [
    {
     "name": "stdout",
     "output_type": "stream",
     "text": [
      "[[  25.4  242. ]\n",
      " [  26.3  290. ]\n",
      " [  26.5  340. ]\n",
      " [  29.   363. ]\n",
      " [  29.   430. ]\n",
      " [  29.7  450. ]\n",
      " [  29.7  500. ]\n",
      " [  30.   390. ]\n",
      " [  30.   450. ]\n",
      " [  30.7  500. ]\n",
      " [  31.   475. ]\n",
      " [  31.   500. ]\n",
      " [  31.5  500. ]\n",
      " [  32.   340. ]\n",
      " [  32.   600. ]\n",
      " [  32.   600. ]\n",
      " [  33.   700. ]\n",
      " [  33.   700. ]\n",
      " [  33.5  610. ]\n",
      " [  33.5  650. ]\n",
      " [  34.   575. ]\n",
      " [  34.   685. ]\n",
      " [  34.5  620. ]\n",
      " [  35.   680. ]\n",
      " [  35.   700. ]\n",
      " [  35.   725. ]\n",
      " [  35.   720. ]\n",
      " [  36.   714. ]\n",
      " [  36.   850. ]\n",
      " [  37.  1000. ]\n",
      " [  38.5  920. ]\n",
      " [  38.5  955. ]\n",
      " [  39.5  925. ]\n",
      " [  41.   975. ]\n",
      " [  41.   950. ]\n",
      " [   9.8    6.7]\n",
      " [  10.5    7.5]\n",
      " [  10.6    7. ]\n",
      " [  11.     9.7]\n",
      " [  11.2    9.8]\n",
      " [  11.3    8.7]\n",
      " [  11.8   10. ]\n",
      " [  11.8    9.9]\n",
      " [  12.     9.8]\n",
      " [  12.2   12.2]\n",
      " [  12.4   13.4]\n",
      " [  13.    12.2]\n",
      " [  14.3   19.7]\n",
      " [  15.    19.9]]\n"
     ]
    }
   ],
   "source": [
    "print(kn._fit_X) #kn.score(fish_data,fish_target)에서 X는 fish_data."
   ]
  },
  {
   "cell_type": "code",
   "execution_count": 16,
   "id": "344c2e5c-36e4-47d2-8615-f07a26a97599",
   "metadata": {},
   "outputs": [
    {
     "data": {
      "text/plain": [
       "(49, 2)"
      ]
     },
     "execution_count": 16,
     "metadata": {},
     "output_type": "execute_result"
    }
   ],
   "source": [
    "kn._fit_X.shape"
   ]
  },
  {
   "cell_type": "code",
   "execution_count": 17,
   "id": "56e6a360-8c25-4096-9e8a-9b4064215e88",
   "metadata": {},
   "outputs": [
    {
     "name": "stdout",
     "output_type": "stream",
     "text": [
      "[1 1 1 1 1 1 1 1 1 1 1 1 1 1 1 1 1 1 1 1 1 1 1 1 1 1 1 1 1 1 1 1 1 1 1 0 0\n",
      " 0 0 0 0 0 0 0 0 0 0 0 0]\n"
     ]
    }
   ],
   "source": [
    "print(kn._y)  #kn.score(fish_data,fish_target)에서 y는 fish_target."
   ]
  },
  {
   "cell_type": "code",
   "execution_count": 18,
   "id": "5343c461-baef-419a-aafd-7b437fd1f0d9",
   "metadata": {},
   "outputs": [
    {
     "data": {
      "text/plain": [
       "(49,)"
      ]
     },
     "execution_count": 18,
     "metadata": {},
     "output_type": "execute_result"
    }
   ],
   "source": [
    "kn._y.shape"
   ]
  },
  {
   "cell_type": "code",
   "execution_count": 19,
   "id": "87b4b905-517e-4187-8aae-9e2efbfa9a1b",
   "metadata": {},
   "outputs": [
    {
     "name": "stdout",
     "output_type": "stream",
     "text": [
      "5\n"
     ]
    }
   ],
   "source": [
    "print(kn.n_neighbors)  #neighbors를 자동으로 5로 지정해주었다."
   ]
  },
  {
   "cell_type": "markdown",
   "id": "e7ec0c11-55c5-4530-96b6-39cd3832142a",
   "metadata": {},
   "source": [
    "### Let's Do Again"
   ]
  },
  {
   "cell_type": "markdown",
   "id": "bf304237-ee45-40cf-92ff-6f8cc2c9a80c",
   "metadata": {},
   "source": [
    "#### K=49인 경우 모델 훈련 및 성능"
   ]
  },
  {
   "cell_type": "code",
   "execution_count": 20,
   "id": "c37cdac9-75c8-48cd-85f5-622eb2318e79",
   "metadata": {},
   "outputs": [],
   "source": [
    "kn49=KNeighborsClassifier(n_neighbors=49)  #neighbors가 전체 데이터 개수인 49라면 어떨까?"
   ]
  },
  {
   "cell_type": "code",
   "execution_count": 21,
   "id": "0a31f123-6cd5-4917-a318-b75eb9abebd0",
   "metadata": {},
   "outputs": [
    {
     "data": {
      "text/plain": [
       "KNeighborsClassifier(n_neighbors=49)"
      ]
     },
     "execution_count": 21,
     "metadata": {},
     "output_type": "execute_result"
    }
   ],
   "source": [
    "kn49.fit(fish_data,fish_target)"
   ]
  },
  {
   "cell_type": "code",
   "execution_count": 22,
   "id": "d3b1bc74-2da6-458e-b8e8-e38f4ae49c95",
   "metadata": {},
   "outputs": [
    {
     "data": {
      "text/plain": [
       "0.7142857142857143"
      ]
     },
     "execution_count": 22,
     "metadata": {},
     "output_type": "execute_result"
    }
   ],
   "source": [
    "kn49.score(fish_data,fish_target)  #score점수가 0.7로 정확하지 않다."
   ]
  },
  {
   "cell_type": "markdown",
   "id": "db393483-4a29-4708-81fb-a3d43b402b96",
   "metadata": {},
   "source": [
    "###### 49개 중 도미가 35개이므로 어떤 데이터를 넣어도 무조건 도미로 예측"
   ]
  },
  {
   "cell_type": "code",
   "execution_count": 23,
   "id": "4845c863-8ded-4cf7-8a77-c5a2a0835d4d",
   "metadata": {},
   "outputs": [
    {
     "name": "stdout",
     "output_type": "stream",
     "text": [
      "0.7142857142857143\n"
     ]
    }
   ],
   "source": [
    "print(35/49)"
   ]
  },
  {
   "cell_type": "code",
   "execution_count": 24,
   "id": "2358ffe6-86b4-4ff3-a41b-aeefa2d8b028",
   "metadata": {},
   "outputs": [
    {
     "name": "stdout",
     "output_type": "stream",
     "text": [
      "5 1.0\n",
      "6 1.0\n",
      "7 1.0\n",
      "8 1.0\n",
      "9 1.0\n",
      "10 1.0\n",
      "11 1.0\n",
      "12 1.0\n",
      "13 1.0\n",
      "14 1.0\n",
      "15 1.0\n",
      "16 1.0\n",
      "17 1.0\n",
      "18 0.9795918367346939\n",
      "18 0.9795918367346939\n"
     ]
    }
   ],
   "source": [
    "kn = KNeighborsClassifier()\n",
    "kn.fit(fish_data,fish_target)\n",
    "\n",
    "for k in range(5,50):\n",
    "    kn.n_neighbors = k\n",
    "    score = kn.score(fish_data,fish_target)\n",
    "    print(k, score)\n",
    "    if score< 1:\n",
    "        print(k, score)\n",
    "        break                  #score점수가 1로 뜰려면 neighbors는 17개까지 가능하다는 것을 알았다."
   ]
  },
  {
   "cell_type": "markdown",
   "id": "c323937f-8a54-46f2-9d73-d21d68774187",
   "metadata": {},
   "source": [
    "###### 위에 있는 방법은 정답을 주고 나서 학습하게 한 다음 정답을 맞추는 방법으로 의미가 크지는 않다."
   ]
  },
  {
   "cell_type": "markdown",
   "id": "340ece47-950c-43bd-93a6-e5de8d809853",
   "metadata": {},
   "source": [
    "### 훈련 데이터 셋과 테스트 데이터셋으로 분리\n",
    "### 폴아웃-홀드인 방식\n",
    "###### 아래의 방법은 정답을 주지 않고 학습하게 한 뒤 정답을 맞추는 방식으로 진행된다."
   ]
  },
  {
   "cell_type": "code",
   "execution_count": 25,
   "id": "5a73ffa7-6e41-4f94-8a6f-b83d8a5b2fb5",
   "metadata": {},
   "outputs": [],
   "source": [
    "train_input=fish_data[:35]\n",
    "train_target=fish_target[:35]  #traind에는 bream데이터가 35개 들어있고 smelt데이터 없다.\n",
    "\n",
    "test_input=fish_data[35:]\n",
    "test_target=fish_target[35:]  #test에는 smelt데이터가 14개 들어있고 bream데이터 없다."
   ]
  },
  {
   "cell_type": "code",
   "execution_count": 26,
   "id": "2ec5733a-9d6c-4c5b-866a-126694c0f32c",
   "metadata": {},
   "outputs": [
    {
     "data": {
      "text/plain": [
       "KNeighborsClassifier(n_neighbors=18)"
      ]
     },
     "execution_count": 26,
     "metadata": {},
     "output_type": "execute_result"
    }
   ],
   "source": [
    "kn.fit(train_input,train_target)  #이 곳에는 bream데이터만 있다. 그러므로 fit과 score 사이에는 정확도가 0이 뜬다."
   ]
  },
  {
   "cell_type": "code",
   "execution_count": 27,
   "id": "264976f1-f233-4e72-a6e8-23b824a58ae6",
   "metadata": {},
   "outputs": [
    {
     "data": {
      "text/plain": [
       "0.0"
      ]
     },
     "execution_count": 27,
     "metadata": {},
     "output_type": "execute_result"
    }
   ],
   "source": [
    "kn.score(test_input,test_target)  #이 곳에는 smelt데이터만 있다. 그러므로 fit과 score 사이에는 정확도가 0이 뜬다."
   ]
  },
  {
   "cell_type": "code",
   "execution_count": 28,
   "id": "d7a96cc1-811d-4a1d-b88b-c75309f5104b",
   "metadata": {},
   "outputs": [
    {
     "name": "stdout",
     "output_type": "stream",
     "text": [
      "[1, 1, 1, 1, 1, 1, 1, 1, 1, 1, 1, 1, 1, 1, 1, 1, 1, 1, 1, 1, 1, 1, 1, 1, 1, 1, 1, 1, 1, 1, 1, 1, 1, 1, 1]\n"
     ]
    }
   ],
   "source": [
    "print(train_target)  #위 두 코드를 확인사살"
   ]
  },
  {
   "cell_type": "code",
   "execution_count": 29,
   "id": "11c5ed34-daf6-428c-a75e-a4681a9f72bc",
   "metadata": {},
   "outputs": [
    {
     "name": "stdout",
     "output_type": "stream",
     "text": [
      "[0, 0, 0, 0, 0, 0, 0, 0, 0, 0, 0, 0, 0, 0]\n"
     ]
    }
   ],
   "source": [
    "print(test_target)   #위 두 코드를 확인사살"
   ]
  },
  {
   "cell_type": "code",
   "execution_count": 30,
   "id": "9d7894fe-8b4e-4e9c-a0c5-51e1adf05ad9",
   "metadata": {},
   "outputs": [],
   "source": [
    "import numpy as np"
   ]
  },
  {
   "cell_type": "code",
   "execution_count": 31,
   "id": "0a78a3f5-349e-454e-afb2-ed818c6d4ee6",
   "metadata": {},
   "outputs": [],
   "source": [
    "input_arr=np.array(fish_data)\n",
    "target_arr=np.array(fish_target)"
   ]
  },
  {
   "cell_type": "code",
   "execution_count": 32,
   "id": "c4ad89af-4e79-43c0-b917-0c3ea528e83e",
   "metadata": {},
   "outputs": [
    {
     "name": "stdout",
     "output_type": "stream",
     "text": [
      "(49, 2)\n"
     ]
    }
   ],
   "source": [
    "print(input_arr.shape)"
   ]
  },
  {
   "cell_type": "code",
   "execution_count": 33,
   "id": "c938926f-2d59-4104-95f8-b53f9b92e187",
   "metadata": {},
   "outputs": [],
   "source": [
    "np.random.seed(42)          #seed결정하면 어느 PC를 쓰더라도 비슷한 값이 생겨남.\n",
    "index=np.arange(49)         #0부터 48사이의 숫자를 할당\n",
    "np.random.shuffle(index)    #0부터 48사이의 숫자를 랜덤하게 섞기(공부가 잘됐는지 학습하기 위한 과정=시험문제 유출안하고 시험보기)"
   ]
  },
  {
   "cell_type": "code",
   "execution_count": 34,
   "id": "b929d6e5-2439-49b1-8c9f-07bd547ab3d7",
   "metadata": {},
   "outputs": [
    {
     "name": "stdout",
     "output_type": "stream",
     "text": [
      "[13 45 47 44 17 27 26 25 31 19 12  4 34  8  3  6 40 41 46 15  9 16 24 33\n",
      " 30  0 43 32  5 29 11 36  1 21  2 37 35 23 39 10 22 18 48 20  7 42 14 28\n",
      " 38]\n"
     ]
    }
   ],
   "source": [
    "print(index)"
   ]
  },
  {
   "cell_type": "code",
   "execution_count": 35,
   "id": "d178a936-09c9-40ca-bdc8-e4034e104d0f",
   "metadata": {},
   "outputs": [
    {
     "data": {
      "text/plain": [
       "array([[ 26.3, 290. ],\n",
       "       [ 29. , 363. ]])"
      ]
     },
     "execution_count": 35,
     "metadata": {},
     "output_type": "execute_result"
    }
   ],
   "source": [
    "input_arr[[1,3]]"
   ]
  },
  {
   "cell_type": "code",
   "execution_count": 36,
   "id": "8297f374-935c-4a20-aabc-a3812822bbc7",
   "metadata": {},
   "outputs": [],
   "source": [
    "train_input=input_arr[index[:35]]   #bream데이터가 35개->smelt데이터가 14개 인 이전 순서와 다르게 bream과 smelt가 아예 랜덤하게 섞여있다.\n",
    "train_target=target_arr[index[:35]] #예를 들자면, bream->smelt->smelt->smelt->bream... 이런 식으로 섞여있다."
   ]
  },
  {
   "cell_type": "code",
   "execution_count": 37,
   "id": "6a21f899-03ab-4c3b-972e-b23ae8370b29",
   "metadata": {},
   "outputs": [
    {
     "name": "stdout",
     "output_type": "stream",
     "text": [
      "[ 32. 340.] [ 32. 340.]\n"
     ]
    }
   ],
   "source": [
    "print(input_arr[13],train_input[0])"
   ]
  },
  {
   "cell_type": "code",
   "execution_count": 38,
   "id": "04f8b571-32cb-440c-ad3c-299f1d9165eb",
   "metadata": {},
   "outputs": [],
   "source": [
    "test_input=input_arr[index[35:]]   #bream데이터가 35개->smelt데이터가 14개 인 이전 순서와 다르게 bream과 smelt가 아예 랜덤하게 섞여있다.\n",
    "test_target=target_arr[index[35:]] #예를 들자면, bream->smelt->smelt->smelt->bream... 이런 식으로 섞여있다."
   ]
  },
  {
   "cell_type": "code",
   "execution_count": 39,
   "id": "5c5fe14d-4a2f-4d5b-aeb0-dff30667dddd",
   "metadata": {},
   "outputs": [
    {
     "data": {
      "image/png": "[encoded data removed]",
      "text/plain": [
       "<Figure size 432x288 with 1 Axes>"
      ]
     },
     "metadata": {
      "needs_background": "light"
     },
     "output_type": "display_data"
    }
   ],
   "source": [
    "import matplotlib.pyplot as plt\n",
    "\n",
    "plt.scatter(train_input[:, 0], train_input[:, 1])\n",
    "plt.scatter(test_input[:, 0], test_input[:, 1])\n",
    "plt.xlabel('length')\n",
    "plt.ylabel('weight')\n",
    "plt.show()\n",
    "\n",
    "#이전 그래프와 다르게 두 개의 점이 마구잡이로 섞여있음을 볼 수 있다. \n",
    "#bream과 smelt가 아예 랜덤하게 섞여있음을 보여주는 그래프이다."
   ]
  },
  {
   "cell_type": "code",
   "execution_count": 40,
   "id": "b94a61ca-a4e6-4acb-9459-432f6946f760",
   "metadata": {},
   "outputs": [
    {
     "data": {
      "text/plain": [
       "'\\nkn = KNeighborsClassifier()\\nkn.fit(fish_data,fish_target)\\n\\nfor k in range(5,50):\\n    kn.n_neighbors = k\\n    score = kn.score(fish_data,fish_target)\\n    print(k, score)\\n    if score< 1:\\n        print(k, score)\\n        break\\n'"
      ]
     },
     "execution_count": 40,
     "metadata": {},
     "output_type": "execute_result"
    }
   ],
   "source": [
    "kn.n_neighbors=5\n",
    "\n",
    "'''\n",
    "kn = KNeighborsClassifier()\n",
    "kn.fit(fish_data,fish_target)\n",
    "\n",
    "for k in range(5,50):\n",
    "    kn.n_neighbors = k\n",
    "    score = kn.score(fish_data,fish_target)\n",
    "    print(k, score)\n",
    "    if score< 1:\n",
    "        print(k, score)\n",
    "        break\n",
    "'''\n",
    "# 이 식때문에 neighbor가 18이 뜬 상황. 따라서 neighbor을 5로 설정해준다.(이 경우 score가 1이다)\n",
    "# 물론 neighbor를 5~17로 설정해두어도 상관없다.(이 경우 score가 1이다)\n",
    "# 만약 위의 식이 없었다면 neighbor은 자동으로 5를 지정한다.(이를 확인해보고 싶으면 위의 print(kn.n_neighbors)코드의 결과값을 보자.)"
   ]
  },
  {
   "cell_type": "code",
   "execution_count": 41,
   "id": "76c934df-f7bd-4315-8629-1dc9817e5216",
   "metadata": {},
   "outputs": [
    {
     "data": {
      "text/plain": [
       "KNeighborsClassifier()"
      ]
     },
     "execution_count": 41,
     "metadata": {},
     "output_type": "execute_result"
    }
   ],
   "source": [
    "kn.fit(train_input,train_target)  #이 곳에는 bream데이터와 smelt가 골구로 섞어있다. neighbors도 5이다.\n",
    "                                  #서로가 잘 섞인 상태에서 지도학습을 하였다. 따라서 fit과 score 사이에 정확도가 1이다.\n",
    "                                  #score=1은 머신러닝이 데이터를 잘 공부했음을 의미한다."
   ]
  },
  {
   "cell_type": "code",
   "execution_count": 42,
   "id": "67d00594-2787-43f8-9f62-b4524e740fcf",
   "metadata": {},
   "outputs": [
    {
     "data": {
      "text/plain": [
       "1.0"
      ]
     },
     "execution_count": 42,
     "metadata": {},
     "output_type": "execute_result"
    }
   ],
   "source": [
    "kn.score(test_input,test_target)  #이 곳에는 bream데이터와 smelt가 골구로 섞어있다. neighbors도 5이다.\n",
    "                                  #서로가 잘 섞인 상태에서 지도학습을 하였다. 따라서 fit과 score 사이에 정확도가 1이다.\n",
    "                                  #score=1은 머신러닝이 데이터를 잘 공부했음을 의미한다."
   ]
  },
  {
   "cell_type": "code",
   "execution_count": 43,
   "id": "84b601f5-3cb9-4b70-a054-84ec919637e5",
   "metadata": {},
   "outputs": [
    {
     "name": "stdout",
     "output_type": "stream",
     "text": [
      "[[ 10.6   7. ]\n",
      " [  9.8   6.7]\n",
      " [ 35.  680. ]\n",
      " [ 11.2   9.8]\n",
      " [ 31.  475. ]\n",
      " [ 34.5 620. ]\n",
      " [ 33.5 610. ]\n",
      " [ 15.   19.9]\n",
      " [ 34.  575. ]\n",
      " [ 30.  390. ]\n",
      " [ 11.8   9.9]\n",
      " [ 32.  600. ]\n",
      " [ 36.  850. ]\n",
      " [ 11.    9.7]]\n"
     ]
    }
   ],
   "source": [
    "print(test_input)"
   ]
  },
  {
   "cell_type": "code",
   "execution_count": 44,
   "id": "cb218b31-731a-40c4-9d13-edabe57f93e8",
   "metadata": {},
   "outputs": [
    {
     "data": {
      "text/plain": [
       "array([0, 0, 1, 0, 1, 1, 1, 0, 1, 1, 0, 1, 1, 0])"
      ]
     },
     "execution_count": 44,
     "metadata": {},
     "output_type": "execute_result"
    }
   ],
   "source": [
    "kn.predict(test_input)  #score=1은 머신러닝이 데이터를 잘 공부했음을 확인사살. 아래 코드의 결과값과 같다."
   ]
  },
  {
   "cell_type": "code",
   "execution_count": 45,
   "id": "6a5bf907-08c2-4a6e-b609-e3cafe60342c",
   "metadata": {},
   "outputs": [
    {
     "name": "stdout",
     "output_type": "stream",
     "text": [
      "[0 0 1 0 1 1 1 0 1 1 0 1 1 0]\n"
     ]
    }
   ],
   "source": [
    "print(test_target)      #score=1은 머신러닝이 데이터를 잘 공부했음을 확인사살. 위 코드의 결과값과 같다."
   ]
  },
  {
   "cell_type": "markdown",
   "id": "869a908b-b8f3-4c82-a191-e8629eed7972",
   "metadata": {},
   "source": [
    "###### kn.predict(test_input)과 print(test_target)가 같으면 score점수 1"
   ]
  }
 ],
 "metadata": {
  "kernelspec": {
   "display_name": "Python Multi",
   "language": "python",
   "name": "multi"
  },
  "language_info": {
   "codemirror_mode": {
    "name": "ipython",
    "version": 3
   },
   "file_extension": ".py",
   "mimetype": "text/x-python",
   "name": "python",
   "nbconvert_exporter": "python",
   "pygments_lexer": "ipython3",
   "version": "3.7.6"
  }
 },
 "nbformat": 4,
 "nbformat_minor": 5
}
