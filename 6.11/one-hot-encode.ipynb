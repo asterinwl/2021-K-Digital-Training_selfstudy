{
 "cells": [
  {
   "cell_type": "raw",
   "id": "9adc9566-7408-4134-92a8-2aee3a221693",
   "metadata": {},
   "source": [
    "### one hot encode\n",
    "\n",
    "For example, imagine we have a “color” variable with three categories (‘red‘, ‘green‘, and ‘blue‘). In this case, three binary variables are needed. A “1” value is placed in the binary variable for the color and “0” values for the other colors.\n",
    "\n",
    "red,\tgreen,\tblue\n",
    "1,\t\t0,\t\t0\n",
    "0,\t\t1,\t\t0\n",
    "0,\t\t0,\t\t1"
   ]
  },
  {
   "cell_type": "code",
   "execution_count": 17,
   "id": "established-extension",
   "metadata": {},
   "outputs": [],
   "source": [
    "# one hot encode the breast cancer dataset\n",
    "from pandas import read_csv\n",
    "from sklearn.preprocessing import OneHotEncoder"
   ]
  },
  {
   "cell_type": "code",
   "execution_count": 18,
   "id": "acceptable-aviation",
   "metadata": {},
   "outputs": [],
   "source": [
    "# define the location of the dataset\n",
    "url = \"https://raw.githubusercontent.com/jbrownlee/Datasets/master/breast-cancer.csv\""
   ]
  },
  {
   "cell_type": "code",
   "execution_count": 19,
   "id": "under-mailman",
   "metadata": {},
   "outputs": [],
   "source": [
    "# load the dataset\n",
    "dataset = read_csv(url, header=None)"
   ]
  },
  {
   "cell_type": "code",
   "execution_count": 20,
   "id": "durable-ranking",
   "metadata": {},
   "outputs": [
    {
     "data": {
      "text/plain": [
       "array([\"'premeno'\", \"'ge40'\", \"'lt40'\"], dtype=object)"
      ]
     },
     "execution_count": 20,
     "metadata": {},
     "output_type": "execute_result"
    }
   ],
   "source": [
    "dataset[1].unique()"
   ]
  },
  {
   "cell_type": "code",
   "execution_count": 21,
   "id": "50cce427-661e-4385-a52e-0cea9d041b69",
   "metadata": {},
   "outputs": [
    {
     "data": {
      "text/plain": [
       "array([\"'40-49'\", \"'50-59'\", \"'60-69'\", \"'30-39'\", \"'70-79'\", \"'20-29'\"],\n",
       "      dtype=object)"
      ]
     },
     "execution_count": 21,
     "metadata": {},
     "output_type": "execute_result"
    }
   ],
   "source": [
    "dataset[0].unique()"
   ]
  },
  {
   "cell_type": "code",
   "execution_count": 22,
   "id": "increasing-reverse",
   "metadata": {},
   "outputs": [],
   "source": [
    "# retrieve the array of data\n",
    "data = dataset.values"
   ]
  },
  {
   "cell_type": "code",
   "execution_count": 23,
   "id": "hydraulic-anderson",
   "metadata": {},
   "outputs": [
    {
     "data": {
      "text/plain": [
       "(286, 10)"
      ]
     },
     "execution_count": 23,
     "metadata": {},
     "output_type": "execute_result"
    }
   ],
   "source": [
    "data.shape"
   ]
  },
  {
   "cell_type": "code",
   "execution_count": 24,
   "id": "romance-router",
   "metadata": {},
   "outputs": [],
   "source": [
    "# separate into input and output columns\n",
    "X = data[:, :-1].astype(str)\n",
    "y = data[:, -1].astype(str)"
   ]
  },
  {
   "cell_type": "code",
   "execution_count": 25,
   "id": "piano-casting",
   "metadata": {},
   "outputs": [
    {
     "name": "stdout",
     "output_type": "stream",
     "text": [
      "[[\"'40-49'\" \"'premeno'\" \"'15-19'\" \"'0-2'\" \"'yes'\" \"'3'\" \"'right'\"\n",
      "  \"'left_up'\" \"'no'\"]]\n"
     ]
    }
   ],
   "source": [
    "# summarize the raw data\n",
    "print(X[:1, :])"
   ]
  },
  {
   "cell_type": "code",
   "execution_count": 26,
   "id": "olive-modem",
   "metadata": {},
   "outputs": [
    {
     "name": "stdout",
     "output_type": "stream",
     "text": [
      "[[\"'40-49'\" \"'premeno'\" \"'15-19'\" \"'0-2'\" \"'yes'\" \"'3'\" \"'right'\"\n",
      "  \"'left_up'\" \"'no'\"]\n",
      " [\"'50-59'\" \"'ge40'\" \"'15-19'\" \"'0-2'\" \"'no'\" \"'1'\" \"'right'\" \"'central'\"\n",
      "  \"'no'\"]\n",
      " [\"'50-59'\" \"'ge40'\" \"'35-39'\" \"'0-2'\" \"'no'\" \"'2'\" \"'left'\" \"'left_low'\"\n",
      "  \"'no'\"]]\n"
     ]
    }
   ],
   "source": [
    "print(X[:3, :])"
   ]
  },
  {
   "cell_type": "code",
   "execution_count": 27,
   "id": "regional-crowd",
   "metadata": {},
   "outputs": [
    {
     "data": {
      "text/plain": [
       "(286, 9)"
      ]
     },
     "execution_count": 27,
     "metadata": {},
     "output_type": "execute_result"
    }
   ],
   "source": [
    "X.shape"
   ]
  },
  {
   "cell_type": "code",
   "execution_count": 28,
   "id": "brazilian-street",
   "metadata": {},
   "outputs": [],
   "source": [
    "# define the one hot encoding transform\n",
    "encoder = OneHotEncoder(sparse=True) #(sparse=False)압축풀기."
   ]
  },
  {
   "cell_type": "code",
   "execution_count": 29,
   "id": "pharmaceutical-filing",
   "metadata": {},
   "outputs": [
    {
     "data": {
      "text/plain": [
       "OneHotEncoder()"
      ]
     },
     "execution_count": 29,
     "metadata": {},
     "output_type": "execute_result"
    }
   ],
   "source": [
    "encoder"
   ]
  },
  {
   "cell_type": "code",
   "execution_count": 30,
   "id": "moderate-vienna",
   "metadata": {},
   "outputs": [],
   "source": [
    "# fit and apply the transform to the input data\n",
    "X_oe = encoder.fit_transform(X)"
   ]
  },
  {
   "cell_type": "code",
   "execution_count": 31,
   "id": "recent-victory",
   "metadata": {},
   "outputs": [
    {
     "data": {
      "text/plain": [
       "(286, 43)"
      ]
     },
     "execution_count": 31,
     "metadata": {},
     "output_type": "execute_result"
    }
   ],
   "source": [
    "X_oe.shape"
   ]
  },
  {
   "cell_type": "code",
   "execution_count": 32,
   "id": "6144fbe6-d141-4a5f-99d5-0eb09d0262e7",
   "metadata": {},
   "outputs": [],
   "source": [
    "#dataset.iloc[0].unique().count\n"
   ]
  },
  {
   "cell_type": "code",
   "execution_count": 33,
   "id": "0423f8ec-177a-41e9-83f2-d346571d3ccd",
   "metadata": {},
   "outputs": [
    {
     "data": {
      "text/plain": [
       "0                '40-49'\n",
       "1              'premeno'\n",
       "2                '15-19'\n",
       "3                  '0-2'\n",
       "4                  'yes'\n",
       "5                    '3'\n",
       "6                'right'\n",
       "7              'left_up'\n",
       "8                   'no'\n",
       "9    'recurrence-events'\n",
       "Name: 0, dtype: object"
      ]
     },
     "execution_count": 33,
     "metadata": {},
     "output_type": "execute_result"
    }
   ],
   "source": [
    "dataset.iloc[0,:]"
   ]
  },
  {
   "cell_type": "code",
   "execution_count": 34,
   "id": "0da3cfc9-b97d-4b4e-8e1c-ebddd16110ae",
   "metadata": {},
   "outputs": [
    {
     "data": {
      "text/plain": [
       "<7x1 sparse matrix of type '<class 'numpy.float64'>'\n",
       "\twith 0 stored elements in Compressed Sparse Row format>"
      ]
     },
     "execution_count": 34,
     "metadata": {},
     "output_type": "execute_result"
    }
   ],
   "source": [
    "X_oe[0:7,0]"
   ]
  },
  {
   "cell_type": "code",
   "execution_count": 35,
   "id": "adolescent-yukon",
   "metadata": {},
   "outputs": [
    {
     "name": "stdout",
     "output_type": "stream",
     "text": [
      "  (0, 2)\t1.0\n",
      "  (0, 8)\t1.0\n",
      "  (0, 11)\t1.0\n",
      "  (0, 20)\t1.0\n",
      "  (0, 28)\t1.0\n",
      "  (0, 32)\t1.0\n",
      "  (0, 34)\t1.0\n",
      "  (0, 37)\t1.0\n",
      "  (0, 41)\t1.0\n"
     ]
    }
   ],
   "source": [
    "# summarize tratransformed data\n",
    "print(X_oe[:1, :])"
   ]
  },
  {
   "cell_type": "code",
   "execution_count": 36,
   "id": "complicated-explosion",
   "metadata": {},
   "outputs": [],
   "source": [
    "encoder = OneHotEncoder() # OneHotEncoder(sparse=True)"
   ]
  },
  {
   "cell_type": "code",
   "execution_count": 37,
   "id": "difficult-madison",
   "metadata": {},
   "outputs": [],
   "source": [
    "# fit and apply the transform to the input data\n",
    "X_oe = encoder.fit_transform(X)"
   ]
  },
  {
   "cell_type": "code",
   "execution_count": 38,
   "id": "blocked-pontiac",
   "metadata": {},
   "outputs": [
    {
     "data": {
      "text/plain": [
       "(286, 43)"
      ]
     },
     "execution_count": 38,
     "metadata": {},
     "output_type": "execute_result"
    }
   ],
   "source": [
    "X_oe.shape"
   ]
  },
  {
   "cell_type": "code",
   "execution_count": 39,
   "id": "limiting-picture",
   "metadata": {},
   "outputs": [
    {
     "name": "stdout",
     "output_type": "stream",
     "text": [
      "  (0, 2)\t1.0\n",
      "  (0, 8)\t1.0\n",
      "  (0, 11)\t1.0\n",
      "  (0, 20)\t1.0\n",
      "  (0, 28)\t1.0\n",
      "  (0, 32)\t1.0\n",
      "  (0, 34)\t1.0\n",
      "  (0, 37)\t1.0\n",
      "  (0, 41)\t1.0\n"
     ]
    }
   ],
   "source": [
    "# summarize tratransformed data\n",
    "print(X_oe[:1, :])"
   ]
  },
  {
   "cell_type": "code",
   "execution_count": 40,
   "id": "sufficient-treasury",
   "metadata": {},
   "outputs": [
    {
     "name": "stdout",
     "output_type": "stream",
     "text": [
      "  (0, 2)\t1.0\n",
      "  (0, 8)\t1.0\n",
      "  (0, 11)\t1.0\n",
      "  (0, 20)\t1.0\n",
      "  (0, 28)\t1.0\n",
      "  (0, 32)\t1.0\n",
      "  (0, 34)\t1.0\n",
      "  (0, 37)\t1.0\n",
      "  (0, 41)\t1.0\n",
      "  (1, 3)\t1.0\n",
      "  (1, 6)\t1.0\n",
      "  (1, 11)\t1.0\n",
      "  (1, 20)\t1.0\n",
      "  (1, 27)\t1.0\n",
      "  (1, 30)\t1.0\n",
      "  (1, 34)\t1.0\n",
      "  (1, 35)\t1.0\n",
      "  (1, 41)\t1.0\n",
      "  (2, 3)\t1.0\n",
      "  (2, 6)\t1.0\n",
      "  (2, 15)\t1.0\n",
      "  (2, 20)\t1.0\n",
      "  (2, 27)\t1.0\n",
      "  (2, 31)\t1.0\n",
      "  (2, 33)\t1.0\n",
      "  (2, 36)\t1.0\n",
      "  (2, 41)\t1.0\n"
     ]
    }
   ],
   "source": [
    "print(X_oe[:3, :])"
   ]
  },
  {
   "cell_type": "code",
   "execution_count": 41,
   "id": "fleet-storage",
   "metadata": {},
   "outputs": [],
   "source": [
    "import pandas as pd"
   ]
  },
  {
   "cell_type": "code",
   "execution_count": 42,
   "id": "suitable-progress",
   "metadata": {},
   "outputs": [
    {
     "data": {
      "text/html": [
       "<div>\n",
       "<style scoped>\n",
       "    .dataframe tbody tr th:only-of-type {\n",
       "        vertical-align: middle;\n",
       "    }\n",
       "\n",
       "    .dataframe tbody tr th {\n",
       "        vertical-align: top;\n",
       "    }\n",
       "\n",
       "    .dataframe thead th {\n",
       "        text-align: right;\n",
       "    }\n",
       "</style>\n",
       "<table border=\"1\" class=\"dataframe\">\n",
       "  <thead>\n",
       "    <tr style=\"text-align: right;\">\n",
       "      <th></th>\n",
       "      <th>name</th>\n",
       "      <th>color</th>\n",
       "    </tr>\n",
       "  </thead>\n",
       "  <tbody>\n",
       "    <tr>\n",
       "      <th>0</th>\n",
       "      <td>apple</td>\n",
       "      <td>red</td>\n",
       "    </tr>\n",
       "    <tr>\n",
       "      <th>1</th>\n",
       "      <td>banana</td>\n",
       "      <td>yellow</td>\n",
       "    </tr>\n",
       "    <tr>\n",
       "      <th>2</th>\n",
       "      <td>cherry</td>\n",
       "      <td>red</td>\n",
       "    </tr>\n",
       "    <tr>\n",
       "      <th>3</th>\n",
       "      <td>durian</td>\n",
       "      <td>green</td>\n",
       "    </tr>\n",
       "  </tbody>\n",
       "</table>\n",
       "</div>"
      ],
      "text/plain": [
       "     name   color\n",
       "0   apple     red\n",
       "1  banana  yellow\n",
       "2  cherry     red\n",
       "3  durian   green"
      ]
     },
     "execution_count": 42,
     "metadata": {},
     "output_type": "execute_result"
    }
   ],
   "source": [
    "fruit = pd.DataFrame({'name':['apple', 'banana', 'cherry', 'durian'],\n",
    "                      'color':['red', 'yellow', 'red', 'green']})   \n",
    "fruit"
   ]
  },
  {
   "cell_type": "code",
   "execution_count": 43,
   "id": "studied-ribbon",
   "metadata": {},
   "outputs": [
    {
     "data": {
      "text/html": [
       "<div>\n",
       "<style scoped>\n",
       "    .dataframe tbody tr th:only-of-type {\n",
       "        vertical-align: middle;\n",
       "    }\n",
       "\n",
       "    .dataframe tbody tr th {\n",
       "        vertical-align: top;\n",
       "    }\n",
       "\n",
       "    .dataframe thead th {\n",
       "        text-align: right;\n",
       "    }\n",
       "</style>\n",
       "<table border=\"1\" class=\"dataframe\">\n",
       "  <thead>\n",
       "    <tr style=\"text-align: right;\">\n",
       "      <th></th>\n",
       "      <th>name</th>\n",
       "      <th>color</th>\n",
       "    </tr>\n",
       "  </thead>\n",
       "  <tbody>\n",
       "    <tr>\n",
       "      <th>0</th>\n",
       "      <td>0</td>\n",
       "      <td>red</td>\n",
       "    </tr>\n",
       "    <tr>\n",
       "      <th>1</th>\n",
       "      <td>1</td>\n",
       "      <td>yellow</td>\n",
       "    </tr>\n",
       "    <tr>\n",
       "      <th>2</th>\n",
       "      <td>2</td>\n",
       "      <td>red</td>\n",
       "    </tr>\n",
       "    <tr>\n",
       "      <th>3</th>\n",
       "      <td>3</td>\n",
       "      <td>green</td>\n",
       "    </tr>\n",
       "  </tbody>\n",
       "</table>\n",
       "</div>"
      ],
      "text/plain": [
       "   name   color\n",
       "0     0     red\n",
       "1     1  yellow\n",
       "2     2     red\n",
       "3     3   green"
      ]
     },
     "execution_count": 43,
     "metadata": {},
     "output_type": "execute_result"
    }
   ],
   "source": [
    "from sklearn.preprocessing import LabelEncoder\n",
    "\n",
    "le = LabelEncoder()\n",
    "le.fit(fruit['name'])\n",
    "fruit['name'] = le.transform(fruit['name'])\n",
    "fruit"
   ]
  },
  {
   "cell_type": "code",
   "execution_count": null,
   "id": "completed-murder",
   "metadata": {},
   "outputs": [],
   "source": []
  }
 ],
 "metadata": {
  "kernelspec": {
   "display_name": "Python 3",
   "language": "python",
   "name": "python3"
  },
  "language_info": {
   "codemirror_mode": {
    "name": "ipython",
    "version": 3
   },
   "file_extension": ".py",
   "mimetype": "text/x-python",
   "name": "python",
   "nbconvert_exporter": "python",
   "pygments_lexer": "ipython3",
   "version": "3.8.8"
  }
 },
 "nbformat": 4,
 "nbformat_minor": 5
}
