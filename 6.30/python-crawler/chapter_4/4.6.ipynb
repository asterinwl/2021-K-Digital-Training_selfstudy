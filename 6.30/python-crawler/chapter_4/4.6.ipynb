{
 "cells": [
  {
   "cell_type": "code",
   "execution_count": 1,
   "id": "0fb88560-2343-45c7-8e8d-3d5af868a582",
   "metadata": {},
   "outputs": [],
   "source": [
    "import feedparser\n",
    "import MySQLdb"
   ]
  },
  {
   "cell_type": "code",
   "execution_count": 2,
   "id": "481dd9ae-b671-4d2c-81c5-eaf6ce7ae8de",
   "metadata": {},
   "outputs": [],
   "source": [
    "# 데이터베이스 연결하기\n",
    "connection = MySQLdb.connect(\n",
    "    user=\"me\",\n",
    "    passwd=\"9421\",\n",
    "    host=\"localhost\",\n",
    "    db=\"tip\",\n",
    "    charset=\"utf8\")"
   ]
  },
  {
   "cell_type": "code",
   "execution_count": 3,
   "id": "1bb6564f-53f7-4981-8afe-4c1e66d465a1",
   "metadata": {},
   "outputs": [],
   "source": [
    "# 커서 생성하기\n",
    "cursor = connection.cursor()"
   ]
  },
  {
   "cell_type": "code",
   "execution_count": 4,
   "id": "96ea004c-dd7c-4ab5-bde5-f3013a810a43",
   "metadata": {},
   "outputs": [
    {
     "data": {
      "text/plain": [
       "0"
      ]
     },
     "execution_count": 4,
     "metadata": {},
     "output_type": "execute_result"
    }
   ],
   "source": [
    "# 실행할 때마다 같은 레코드가 중복되어 들어가지 않게 테이블을 제거해두기\n",
    "cursor.execute(\"DROP TABLE IF EXISTS books\")"
   ]
  },
  {
   "cell_type": "code",
   "execution_count": 5,
   "id": "600959bb-ab16-4018-8f8b-4000f4aef19f",
   "metadata": {},
   "outputs": [
    {
     "data": {
      "text/plain": [
       "0"
      ]
     },
     "execution_count": 5,
     "metadata": {},
     "output_type": "execute_result"
    }
   ],
   "source": [
    "# 테이블 생성하기\n",
    "cursor.execute(\"CREATE TABLE books (title text, url text)\")"
   ]
  },
  {
   "cell_type": "code",
   "execution_count": 6,
   "id": "07bfc8d7-ecb7-4626-94bc-a97988f3b08f",
   "metadata": {},
   "outputs": [],
   "source": [
    "# URL을 지정해서 FeedParserDict 객체 생성하기\n",
    "rss = feedparser.parse(\"http://www.aladin.co.kr/rss/special_new/351\")"
   ]
  },
  {
   "cell_type": "code",
   "execution_count": 7,
   "id": "683beeb2-3505-4af2-b222-879707ec8b17",
   "metadata": {},
   "outputs": [
    {
     "name": "stdout",
     "output_type": "stream",
     "text": [
      "rss20\n"
     ]
    }
   ],
   "source": [
    "# RSS 버전 확인하기\n",
    "print(rss.version)"
   ]
  },
  {
   "cell_type": "code",
   "execution_count": 8,
   "id": "ec8dea49-4ee2-4cc7-bca0-42b255416cf3",
   "metadata": {},
   "outputs": [
    {
     "name": "stdout",
     "output_type": "stream",
     "text": [
      "분야별 신간 특선 - 컴퓨터/모바일\n"
     ]
    }
   ],
   "source": [
    "# 피드의 제목\n",
    "print(rss[\"feed\"][\"title\"])"
   ]
  },
  {
   "cell_type": "code",
   "execution_count": 9,
   "id": "e6708f39-abad-4de2-a759-10e8095d8c3e",
   "metadata": {},
   "outputs": [],
   "source": [
    "# 반복 적용\n",
    "for content in rss[\"entries\"]:\n",
    "    # 데이터 저장하기\n",
    "    cursor.execute(\"INSERT INTO books VALUES(%s, %s)\", (content[\"title\"], content[\"link\"])) "
   ]
  },
  {
   "cell_type": "code",
   "execution_count": 10,
   "id": "4295ed38-70b4-4452-b836-6dbfaf72bdb8",
   "metadata": {},
   "outputs": [],
   "source": [
    "# 커밋하기\n",
    "connection.commit()"
   ]
  },
  {
   "cell_type": "code",
   "execution_count": 11,
   "id": "74104bae-ca92-4c5b-bae5-a52598af138a",
   "metadata": {},
   "outputs": [],
   "source": [
    "# 연결 종료하기\n",
    "connection.close()"
   ]
  }
 ],
 "metadata": {
  "kernelspec": {
   "display_name": "Python django",
   "language": "python",
   "name": "django"
  },
  "language_info": {
   "codemirror_mode": {
    "name": "ipython",
    "version": 3
   },
   "file_extension": ".py",
   "mimetype": "text/x-python",
   "name": "python",
   "nbconvert_exporter": "python",
   "pygments_lexer": "ipython3",
   "version": "3.8.8"
  }
 },
 "nbformat": 4,
 "nbformat_minor": 5
}
